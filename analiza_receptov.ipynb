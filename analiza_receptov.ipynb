{
 "cells": [
  {
   "cell_type": "markdown",
   "metadata": {},
   "source": [
    "# ANALIZA RECEPTOV\n",
    "\n",
    "Zbirko receptov smo sestavili iz receptov s strani [skinnytaste](https://www.skinnytaste.com/recipes/). \n",
    "Vsak recept ima osnovne podatke:\n",
    "- ime recepta\n",
    "- čas priprave in čas kuhanja\n",
    "- število porcij \n",
    "- kalorije, ogljikovi hidrati, maščobe in beljakovine na porcijo \n",
    "- opis recepta (tega pri analizi ne bomo uporabljali, lahko pa si ga preberemo v recepti.csv datoteki)\n",
    "\n",
    "Cilj te analize je, da bi bili pri sestavlajnju jedilnika iz naše zbirke čim hitrejši in da bi vanj vključili čim bolj zdrave in časovno nezahtevne recepte.\n",
    "\n",
    "V ta namen bomo postavili kriterije, ki nam bodo pri tem pomagali in po njem primerjali različne recepte, kategorije, kulinarike in oznake."
   ]
  },
  {
   "cell_type": "code",
   "execution_count": 2,
   "metadata": {},
   "outputs": [],
   "source": [
    "import pandas as pd\n",
    "import os.path\n",
    "pd.options.display.max_rows = 10\n",
    "\n",
    "%matplotlib inline\n",
    "\n",
    "recepti_vse = pd.read_csv(os.path.join(\"obdelani-podatki\", \"recepti.csv\"))\n",
    "recepti = recepti_vse.drop(columns = [\"sestavine\", \"opis\"])\n",
    "kategorije = pd.read_csv(os.path.join(\"obdelani-podatki\", \"kategorije.csv\"))\n",
    "kulinarike = pd.read_csv(os.path.join(\"obdelani-podatki\", \"kulinarike.csv\"))\n",
    "oznake = pd.read_csv(os.path.join(\"obdelani-podatki\", \"oznake.csv\"))\n"
   ]
  },
  {
   "cell_type": "markdown",
   "metadata": {},
   "source": [
    "## <span style=\"color:yellow\">TEKMOVANJE RECEPTOV</span>"
   ]
  },
  {
   "cell_type": "markdown",
   "metadata": {},
   "source": [
    "\n",
    "> _“According to the National Academy of Sciences, current recommendations for healthy adults \n",
    "suggest a diet with 10 to 35 percent of calories from protein, 20 to 35 percent from fat, and 45 to 65 percent from carbohydrates.”_\n",
    "\n",
    "<sup> <span style=\"color:gray\">Vir:  https://www.healthyforlifemeals.com/blog/why-macronutrients-are-important </span><sup>"
   ]
  },
  {
   "cell_type": "markdown",
   "metadata": {},
   "source": [
    "\n",
    "Po naši naivni formuli bo najboljši recept tisti, pri katerem priprava jedi porabi največ 30 minut in \n",
    "ima najbolj raznoliko hranilno sestavo. Iz zgornjega vira določimo našo idealno hranilno sestavo: \n",
    "> **ogljikovi_hidrati : mascobe : beljakovine** = 50:25:25 = **2:1:1**  \n",
    "\n",
    "Receptom bomo glede na te pogoje pripisali kazenske točke, s pomočjo teh pa bomo lahko kategorije razvrstili od najboljše do najslabše.\n",
    "\n",
    "V nadaljevanju bomo zaradi preglednosti preimovali kolicine ogljikovi_hidrati, mascobe, beljakovine v OH, M, B\n",
    "\n",
    "\n",
    ">  **KRTITERIJ ZA KAZENSKE TOČKE (KT):**\n",
    ">    1. M + B = OH oz. k1 = OH  / (M+B) = 1\n",
    ">   2. k2 = M/B = 1 \n",
    ">   3. skupni_cas = 30min       \n",
    ">\n",
    "\n",
    "5% oz. 5 min odmika od idealne vrednosti prinese 1KT.        \n",
    "Če je skupni čas krajši od 30 min nam lahko prinese \"negativne KT\", in s tem zmanjša skupne KT, saj nam je čas bolj pomemben kot uravnoteženost hranilnih snovi.\n"
   ]
  },
  {
   "cell_type": "markdown",
   "metadata": {},
   "source": [
    "##### <span style=\"color:yellow\">Izračun kazenskih točk za recepte</span> "
   ]
  },
  {
   "cell_type": "markdown",
   "metadata": {},
   "source": [
    "Pripavimo podatke, ki jih bomo potrebovali za formulo kazenskih točk."
   ]
  },
  {
   "cell_type": "code",
   "execution_count": 3,
   "metadata": {},
   "outputs": [],
   "source": [
    "recepti[\"M+B\"] = recepti.mascobe + recepti.beljakovine\n",
    "recepti[\"k1\"] = recepti.ogljikovi_hidrati/ (recepti.mascobe + recepti.beljakovine)\n",
    "recepti[\"k2\"] = recepti.mascobe / recepti.beljakovine\n",
    "recepti[\"skupni_cas\"] = recepti.cas_priprave + recepti.cas_kuhanja"
   ]
  },
  {
   "cell_type": "code",
   "execution_count": 4,
   "metadata": {},
   "outputs": [
    {
     "data": {
      "text/html": [
       "<div>\n",
       "<style scoped>\n",
       "    .dataframe tbody tr th:only-of-type {\n",
       "        vertical-align: middle;\n",
       "    }\n",
       "\n",
       "    .dataframe tbody tr th {\n",
       "        vertical-align: top;\n",
       "    }\n",
       "\n",
       "    .dataframe thead th {\n",
       "        text-align: right;\n",
       "    }\n",
       "</style>\n",
       "<table border=\"1\" class=\"dataframe\">\n",
       "  <thead>\n",
       "    <tr style=\"text-align: right;\">\n",
       "      <th></th>\n",
       "      <th>id_recepta</th>\n",
       "      <th>ime_recepta</th>\n",
       "      <th>cas_priprave</th>\n",
       "      <th>cas_kuhanja</th>\n",
       "      <th>st_porcij</th>\n",
       "      <th>kalorije</th>\n",
       "      <th>ogljikovi_hidrati</th>\n",
       "      <th>mascobe</th>\n",
       "      <th>beljakovine</th>\n",
       "      <th>M+B</th>\n",
       "      <th>k1</th>\n",
       "      <th>k2</th>\n",
       "      <th>skupni_cas</th>\n",
       "      <th>KT1</th>\n",
       "      <th>KT2</th>\n",
       "      <th>KT3</th>\n",
       "      <th>KT</th>\n",
       "    </tr>\n",
       "  </thead>\n",
       "  <tbody>\n",
       "    <tr>\n",
       "      <th>0</th>\n",
       "      <td>1</td>\n",
       "      <td>Pepperoni Pizza Bites</td>\n",
       "      <td>10</td>\n",
       "      <td>30</td>\n",
       "      <td>4</td>\n",
       "      <td>286.0</td>\n",
       "      <td>31.0</td>\n",
       "      <td>9.5</td>\n",
       "      <td>18.0</td>\n",
       "      <td>27.5</td>\n",
       "      <td>1.13</td>\n",
       "      <td>0.53</td>\n",
       "      <td>40</td>\n",
       "      <td>2.0</td>\n",
       "      <td>9.0</td>\n",
       "      <td>2</td>\n",
       "      <td>13.0</td>\n",
       "    </tr>\n",
       "    <tr>\n",
       "      <th>1</th>\n",
       "      <td>2</td>\n",
       "      <td>Crustless Potato Jalapeño Quiche</td>\n",
       "      <td>10</td>\n",
       "      <td>50</td>\n",
       "      <td>6</td>\n",
       "      <td>207.0</td>\n",
       "      <td>12.0</td>\n",
       "      <td>12.5</td>\n",
       "      <td>11.5</td>\n",
       "      <td>24.0</td>\n",
       "      <td>0.50</td>\n",
       "      <td>1.09</td>\n",
       "      <td>60</td>\n",
       "      <td>10.0</td>\n",
       "      <td>1.0</td>\n",
       "      <td>6</td>\n",
       "      <td>17.0</td>\n",
       "    </tr>\n",
       "    <tr>\n",
       "      <th>2</th>\n",
       "      <td>3</td>\n",
       "      <td>Perfect Baked Potato Recipe</td>\n",
       "      <td>5</td>\n",
       "      <td>55</td>\n",
       "      <td>4</td>\n",
       "      <td>157.0</td>\n",
       "      <td>36.0</td>\n",
       "      <td>0.5</td>\n",
       "      <td>4.0</td>\n",
       "      <td>4.5</td>\n",
       "      <td>8.00</td>\n",
       "      <td>0.12</td>\n",
       "      <td>60</td>\n",
       "      <td>140.0</td>\n",
       "      <td>17.0</td>\n",
       "      <td>6</td>\n",
       "      <td>163.0</td>\n",
       "    </tr>\n",
       "    <tr>\n",
       "      <th>3</th>\n",
       "      <td>8</td>\n",
       "      <td>Baked Chicken Breasts</td>\n",
       "      <td>5</td>\n",
       "      <td>30</td>\n",
       "      <td>4</td>\n",
       "      <td>271.0</td>\n",
       "      <td>5.0</td>\n",
       "      <td>9.0</td>\n",
       "      <td>40.0</td>\n",
       "      <td>49.0</td>\n",
       "      <td>0.10</td>\n",
       "      <td>0.22</td>\n",
       "      <td>35</td>\n",
       "      <td>17.0</td>\n",
       "      <td>15.0</td>\n",
       "      <td>1</td>\n",
       "      <td>33.0</td>\n",
       "    </tr>\n",
       "    <tr>\n",
       "      <th>4</th>\n",
       "      <td>10</td>\n",
       "      <td>Spaghetti Squash Crust Pizza</td>\n",
       "      <td>30</td>\n",
       "      <td>30</td>\n",
       "      <td>2</td>\n",
       "      <td>303.0</td>\n",
       "      <td>18.0</td>\n",
       "      <td>17.0</td>\n",
       "      <td>28.0</td>\n",
       "      <td>45.0</td>\n",
       "      <td>0.40</td>\n",
       "      <td>0.61</td>\n",
       "      <td>60</td>\n",
       "      <td>12.0</td>\n",
       "      <td>7.0</td>\n",
       "      <td>6</td>\n",
       "      <td>25.0</td>\n",
       "    </tr>\n",
       "    <tr>\n",
       "      <th>...</th>\n",
       "      <td>...</td>\n",
       "      <td>...</td>\n",
       "      <td>...</td>\n",
       "      <td>...</td>\n",
       "      <td>...</td>\n",
       "      <td>...</td>\n",
       "      <td>...</td>\n",
       "      <td>...</td>\n",
       "      <td>...</td>\n",
       "      <td>...</td>\n",
       "      <td>...</td>\n",
       "      <td>...</td>\n",
       "      <td>...</td>\n",
       "      <td>...</td>\n",
       "      <td>...</td>\n",
       "      <td>...</td>\n",
       "      <td>...</td>\n",
       "    </tr>\n",
       "    <tr>\n",
       "      <th>133</th>\n",
       "      <td>205</td>\n",
       "      <td>Raspberry Yogurt Popsicles</td>\n",
       "      <td>15</td>\n",
       "      <td>0</td>\n",
       "      <td>10</td>\n",
       "      <td>71.0</td>\n",
       "      <td>11.0</td>\n",
       "      <td>2.5</td>\n",
       "      <td>2.5</td>\n",
       "      <td>5.0</td>\n",
       "      <td>2.20</td>\n",
       "      <td>1.00</td>\n",
       "      <td>15</td>\n",
       "      <td>24.0</td>\n",
       "      <td>0.0</td>\n",
       "      <td>-3</td>\n",
       "      <td>21.0</td>\n",
       "    </tr>\n",
       "    <tr>\n",
       "      <th>134</th>\n",
       "      <td>208</td>\n",
       "      <td>Chocolate Zucchini Bread</td>\n",
       "      <td>20</td>\n",
       "      <td>55</td>\n",
       "      <td>16</td>\n",
       "      <td>190.5</td>\n",
       "      <td>28.0</td>\n",
       "      <td>8.0</td>\n",
       "      <td>4.0</td>\n",
       "      <td>12.0</td>\n",
       "      <td>2.33</td>\n",
       "      <td>2.00</td>\n",
       "      <td>75</td>\n",
       "      <td>26.0</td>\n",
       "      <td>20.0</td>\n",
       "      <td>9</td>\n",
       "      <td>55.0</td>\n",
       "    </tr>\n",
       "    <tr>\n",
       "      <th>135</th>\n",
       "      <td>209</td>\n",
       "      <td>Spaghetti with Sauteed Chicken and Grape Tomatoes</td>\n",
       "      <td>5</td>\n",
       "      <td>25</td>\n",
       "      <td>4</td>\n",
       "      <td>330.0</td>\n",
       "      <td>48.0</td>\n",
       "      <td>7.0</td>\n",
       "      <td>25.0</td>\n",
       "      <td>32.0</td>\n",
       "      <td>1.50</td>\n",
       "      <td>0.28</td>\n",
       "      <td>30</td>\n",
       "      <td>10.0</td>\n",
       "      <td>14.0</td>\n",
       "      <td>0</td>\n",
       "      <td>24.0</td>\n",
       "    </tr>\n",
       "    <tr>\n",
       "      <th>136</th>\n",
       "      <td>210</td>\n",
       "      <td>Easy Blueberry Buttermilk Cake</td>\n",
       "      <td>20</td>\n",
       "      <td>30</td>\n",
       "      <td>18</td>\n",
       "      <td>168.0</td>\n",
       "      <td>33.0</td>\n",
       "      <td>2.9</td>\n",
       "      <td>3.1</td>\n",
       "      <td>6.0</td>\n",
       "      <td>5.50</td>\n",
       "      <td>0.94</td>\n",
       "      <td>50</td>\n",
       "      <td>90.0</td>\n",
       "      <td>1.0</td>\n",
       "      <td>4</td>\n",
       "      <td>95.0</td>\n",
       "    </tr>\n",
       "    <tr>\n",
       "      <th>137</th>\n",
       "      <td>213</td>\n",
       "      <td>Flourless Zucchini Brownies</td>\n",
       "      <td>15</td>\n",
       "      <td>30</td>\n",
       "      <td>12</td>\n",
       "      <td>179.0</td>\n",
       "      <td>25.0</td>\n",
       "      <td>9.0</td>\n",
       "      <td>4.5</td>\n",
       "      <td>13.5</td>\n",
       "      <td>1.85</td>\n",
       "      <td>2.00</td>\n",
       "      <td>45</td>\n",
       "      <td>17.0</td>\n",
       "      <td>20.0</td>\n",
       "      <td>3</td>\n",
       "      <td>40.0</td>\n",
       "    </tr>\n",
       "  </tbody>\n",
       "</table>\n",
       "<p>138 rows × 17 columns</p>\n",
       "</div>"
      ],
      "text/plain": [
       "     id_recepta                                        ime_recepta  \\\n",
       "0             1                              Pepperoni Pizza Bites   \n",
       "1             2                   Crustless Potato Jalapeño Quiche   \n",
       "2             3                        Perfect Baked Potato Recipe   \n",
       "3             8                              Baked Chicken Breasts   \n",
       "4            10                       Spaghetti Squash Crust Pizza   \n",
       "..          ...                                                ...   \n",
       "133         205                         Raspberry Yogurt Popsicles   \n",
       "134         208                           Chocolate Zucchini Bread   \n",
       "135         209  Spaghetti with Sauteed Chicken and Grape Tomatoes   \n",
       "136         210                     Easy Blueberry Buttermilk Cake   \n",
       "137         213                       Flourless Zucchini Brownies    \n",
       "\n",
       "     cas_priprave  cas_kuhanja  st_porcij  kalorije  ogljikovi_hidrati  \\\n",
       "0              10           30          4     286.0               31.0   \n",
       "1              10           50          6     207.0               12.0   \n",
       "2               5           55          4     157.0               36.0   \n",
       "3               5           30          4     271.0                5.0   \n",
       "4              30           30          2     303.0               18.0   \n",
       "..            ...          ...        ...       ...                ...   \n",
       "133            15            0         10      71.0               11.0   \n",
       "134            20           55         16     190.5               28.0   \n",
       "135             5           25          4     330.0               48.0   \n",
       "136            20           30         18     168.0               33.0   \n",
       "137            15           30         12     179.0               25.0   \n",
       "\n",
       "     mascobe  beljakovine   M+B    k1    k2  skupni_cas    KT1   KT2  KT3  \\\n",
       "0        9.5         18.0  27.5  1.13  0.53          40    2.0   9.0    2   \n",
       "1       12.5         11.5  24.0  0.50  1.09          60   10.0   1.0    6   \n",
       "2        0.5          4.0   4.5  8.00  0.12          60  140.0  17.0    6   \n",
       "3        9.0         40.0  49.0  0.10  0.22          35   17.0  15.0    1   \n",
       "4       17.0         28.0  45.0  0.40  0.61          60   12.0   7.0    6   \n",
       "..       ...          ...   ...   ...   ...         ...    ...   ...  ...   \n",
       "133      2.5          2.5   5.0  2.20  1.00          15   24.0   0.0   -3   \n",
       "134      8.0          4.0  12.0  2.33  2.00          75   26.0  20.0    9   \n",
       "135      7.0         25.0  32.0  1.50  0.28          30   10.0  14.0    0   \n",
       "136      2.9          3.1   6.0  5.50  0.94          50   90.0   1.0    4   \n",
       "137      9.0          4.5  13.5  1.85  2.00          45   17.0  20.0    3   \n",
       "\n",
       "        KT  \n",
       "0     13.0  \n",
       "1     17.0  \n",
       "2    163.0  \n",
       "3     33.0  \n",
       "4     25.0  \n",
       "..     ...  \n",
       "133   21.0  \n",
       "134   55.0  \n",
       "135   24.0  \n",
       "136   95.0  \n",
       "137   40.0  \n",
       "\n",
       "[138 rows x 17 columns]"
      ]
     },
     "execution_count": 4,
     "metadata": {},
     "output_type": "execute_result"
    }
   ],
   "source": [
    "recepti[\"KT1\"] = abs(1 - recepti[\"k1\"]) * 100 // 5\n",
    "recepti[\"KT2\"] = abs(1 - recepti[\"k2\"]) * 100 // 5\n",
    "recepti[\"KT3\"] = (recepti.skupni_cas - 30) // 5\n",
    "\n",
    "recepti[\"KT\"] = recepti[\"KT1\"] + recepti[\"KT2\"] + recepti[\"KT3\"]\n",
    "\n",
    "recepti.round(2)"
   ]
  },
  {
   "cell_type": "markdown",
   "metadata": {},
   "source": [
    "Za občutek si oglejmo, kako so glede ne podatke določene KT."
   ]
  },
  {
   "cell_type": "code",
   "execution_count": 5,
   "metadata": {},
   "outputs": [
    {
     "data": {
      "text/plain": [
       "<AxesSubplot:title={'center':'KT za tretjo točko kriterija'}, xlabel='skupni_cas', ylabel='KT3'>"
      ]
     },
     "execution_count": 5,
     "metadata": {},
     "output_type": "execute_result"
    },
    {
     "data": {
      "image/png": "[encoded data removed]",
      "text/plain": [
       "<Figure size 432x288 with 1 Axes>"
      ]
     },
     "metadata": {
      "needs_background": "light"
     },
     "output_type": "display_data"
    },
    {
     "data": {
      "image/png": "[encoded data removed]",
      "text/plain": [
       "<Figure size 432x288 with 1 Axes>"
      ]
     },
     "metadata": {
      "needs_background": "light"
     },
     "output_type": "display_data"
    },
    {
     "data": {
      "image/png": "[encoded data removed]",
      "text/plain": [
       "<Figure size 432x288 with 1 Axes>"
      ]
     },
     "metadata": {
      "needs_background": "light"
     },
     "output_type": "display_data"
    }
   ],
   "source": [
    "recepti.plot.scatter(x=\"k1\", y=\"KT1\", color=\"blue\", title = \"KT za prvo točko kriterija\")\n",
    "recepti.plot.scatter(x=\"k2\", y=\"KT2\", color=\"blue\", title = \"KT za drugo točko kriterija\")\n",
    "recepti.plot.scatter(x=\"skupni_cas\", y=\"KT3\", color=\"blue\", title = \"KT za tretjo točko kriterija\")"
   ]
  },
  {
   "cell_type": "markdown",
   "metadata": {},
   "source": [
    "<span style=\"color:yellow\">Analiza povprečja</span> "
   ]
  },
  {
   "cell_type": "code",
   "execution_count": 6,
   "metadata": {},
   "outputs": [
    {
     "data": {
      "text/plain": [
       "KT1    22.840580\n",
       "KT2    13.260870\n",
       "KT3     0.586957\n",
       "KT     36.688406\n",
       "dtype: float64"
      ]
     },
     "execution_count": 6,
     "metadata": {},
     "output_type": "execute_result"
    }
   ],
   "source": [
    "recepti[[\"KT1\", \"KT2\", \"KT3\", \"KT\"]].mean()"
   ]
  },
  {
   "cell_type": "markdown",
   "metadata": {},
   "source": [
    "Opazimo, da recepti v povprečju največ KT dobijo v 1. točki in najmanj v 3. točki kriterija. Poglejmo si povprečja po točkah bolj podrobno."
   ]
  },
  {
   "cell_type": "markdown",
   "metadata": {},
   "source": [
    "<span style=\"color:yellow\">1. točka</span> "
   ]
  },
  {
   "cell_type": "code",
   "execution_count": 7,
   "metadata": {},
   "outputs": [
    {
     "data": {
      "text/plain": [
       "ogljikovi_hidrati    22.536232\n",
       "M+B                  26.437681\n",
       "k1                    1.575334\n",
       "KT1                  22.840580\n",
       "dtype: float64"
      ]
     },
     "execution_count": 7,
     "metadata": {},
     "output_type": "execute_result"
    }
   ],
   "source": [
    "recepti[[ \"ogljikovi_hidrati\", \"M+B\", \"k1\", \"KT1\"]].mean()"
   ]
  },
  {
   "cell_type": "markdown",
   "metadata": {},
   "source": [
    "Iz povprečja koeficienta k1 bi lahko sklepali, da je v receptih več OH kot B in M skupaj. To pa ne sovpada s povprečjem OH in M+B, ki smo ga izračunali posebej, saj to kaže, da je v povprečju OH manj."
   ]
  },
  {
   "cell_type": "markdown",
   "metadata": {},
   "source": [
    "Ker velja da povprečje kazenskih točk ni enako kot kazenske točke povrečja, si oglejmo njuno odstopanje.         \n",
    "> Povprečno vrednost KT lahko izračunamo na 3 načine:         \n",
    "> 1. Popvrečje KT\n",
    "> 2. KT povprečja\n",
    "> 3. KT iz povprečnega koeficienta"
   ]
  },
  {
   "cell_type": "code",
   "execution_count": 8,
   "metadata": {},
   "outputs": [
    {
     "data": {
      "text/plain": [
       "2.0"
      ]
     },
     "execution_count": 8,
     "metadata": {},
     "output_type": "execute_result"
    }
   ],
   "source": [
    "abs(1 -  recepti.ogljikovi_hidrati.mean() / recepti[\"M+B\"].mean()) * 100 // 5"
   ]
  },
  {
   "cell_type": "code",
   "execution_count": 9,
   "metadata": {},
   "outputs": [
    {
     "data": {
      "text/plain": [
       "11.0"
      ]
     },
     "execution_count": 9,
     "metadata": {},
     "output_type": "execute_result"
    }
   ],
   "source": [
    "abs(1 - recepti[\"k1\"].mean()) * 100 // 5"
   ]
  },
  {
   "cell_type": "markdown",
   "metadata": {},
   "source": [
    "Dobimo 3 možnosti: 23, 2, 11.\n",
    "Njihovo povrečje pa je 12."
   ]
  },
  {
   "cell_type": "markdown",
   "metadata": {},
   "source": [
    "Med tremi povprečji imamo kar veliko odstopanje, za kar lahko krivimo našo formulo.\n",
    "Ker je razlika med povprečnimi KT in KT povprečja velika, lahko sklepamo, da morda naši recepti posamezno niso dobro uravnoteženi glede vsebnosti OH in (B + M), je pa dobro uravnotežena celotna zbirka receptov.  \n",
    "Če bi se držali jedilnika iz te zbirke dlje časa, bi bila naša prehrana glede na prvo točko kriterija ustrezna."
   ]
  },
  {
   "cell_type": "markdown",
   "metadata": {},
   "source": [
    "<span style=\"color:yellow\">2. točka</span> \n"
   ]
  },
  {
   "cell_type": "code",
   "execution_count": 10,
   "metadata": {},
   "outputs": [
    {
     "data": {
      "text/plain": [
       "mascobe         8.865217\n",
       "beljakovine    17.572464\n",
       "k2              0.895311\n",
       "KT2            13.260870\n",
       "dtype: float64"
      ]
     },
     "execution_count": 10,
     "metadata": {},
     "output_type": "execute_result"
    }
   ],
   "source": [
    "recepti[[\"mascobe\", \"beljakovine\", \"k2\", \"KT2\"]].mean()"
   ]
  },
  {
   "cell_type": "markdown",
   "metadata": {},
   "source": [
    "Tukaj pa opazimo ravno obratno kot v točki 1. Koeficient k2 kaže dobro razmerje med M in B, saj je odmik od idealne vrednosti 1 le okoli 10%.       \n",
    "Povprečja M in B pa ne kažeta medsebojnega ujemanja."
   ]
  },
  {
   "cell_type": "code",
   "execution_count": 11,
   "metadata": {},
   "outputs": [
    {
     "data": {
      "text/plain": [
       "9.0"
      ]
     },
     "execution_count": 11,
     "metadata": {},
     "output_type": "execute_result"
    }
   ],
   "source": [
    "abs(1 -  recepti.mascobe.mean() / recepti.beljakovine.mean()) * 100 // 5"
   ]
  },
  {
   "cell_type": "code",
   "execution_count": 12,
   "metadata": {},
   "outputs": [
    {
     "data": {
      "text/plain": [
       "11.0"
      ]
     },
     "execution_count": 12,
     "metadata": {},
     "output_type": "execute_result"
    }
   ],
   "source": [
    "abs(1 - recepti[\"k1\"].mean()) * 100 // 5"
   ]
  },
  {
   "cell_type": "markdown",
   "metadata": {},
   "source": [
    "Kot v 1. točki dobimo za povprečno vrednost KT 3 možnosti: 13, 9, 11.       \n",
    "Njihovo povprečje je 11, kar je za 1 manj kot v prvi točki kriterija.       \n",
    "\n",
    "Poglejmo si, če je res kakšna povezava med KT1 in KT2."
   ]
  },
  {
   "cell_type": "code",
   "execution_count": 13,
   "metadata": {},
   "outputs": [
    {
     "data": {
      "text/plain": [
       "<AxesSubplot:title={'center':'Povezava med KT1 in KT2'}, xlabel='KT1', ylabel='KT2'>"
      ]
     },
     "execution_count": 13,
     "metadata": {},
     "output_type": "execute_result"
    },
    {
     "data": {
      "image/png": "[encoded data removed]",
      "text/plain": [
       "<Figure size 432x288 with 1 Axes>"
      ]
     },
     "metadata": {
      "needs_background": "light"
     },
     "output_type": "display_data"
    }
   ],
   "source": [
    "recepti.plot.scatter(x = \"KT1\", y = \"KT2\", title = \"Povezava med KT1 in KT2\")"
   ]
  },
  {
   "cell_type": "markdown",
   "metadata": {},
   "source": [
    "Ugotovimo, da čeprav sta povprečji blizu, se to ne odraža tudi pri posameznih receptih. Vrednosti na zgornjem grafu so preveč razpršene, da bi vrednosti KT1 in KT2 lahko povezali."
   ]
  },
  {
   "cell_type": "markdown",
   "metadata": {},
   "source": [
    "Vrnimo se nazaj k trem možnim povprečjem KT2.\n",
    "Tu so si, za razliko od prejšnje točke, vse tri vrednosti dokaj blizu, zato tudi najmanjša izmed njih ni blizu 0.\n",
    "Torej bi imel jedilnik iz te zbirke receptov v povprečju manj maščob kot beljakovin, kar bi lahko bila težava, če bi se takega jedilnika držali dlje časa."
   ]
  },
  {
   "cell_type": "markdown",
   "metadata": {},
   "source": [
    "Jedilnik bi lahko popravili tako, da bi večkrat izbrali recepte, ki imajo k2 večji od 1."
   ]
  },
  {
   "cell_type": "code",
   "execution_count": 14,
   "metadata": {},
   "outputs": [],
   "source": [
    "recepti_po_k2 = recepti[\n",
    "    recepti[\"k2\"] > 1.0\n",
    "]"
   ]
  },
  {
   "cell_type": "markdown",
   "metadata": {},
   "source": [
    "Lahko se odločimo, da bomo večkrat izbrali kakšen tak recept. Lahko pa izberemo take s čim večjim k2 in to storimo bolj poredko.        \n",
    "Tako bi v naš jedilnik vnesli več maščob in s tem uravnovesili našo prehrano.       \n",
    "Oglejmo si take primere, ki bodo poleg tega čim bolj ustrezni tudi po ostalih točkah kriterija."
   ]
  },
  {
   "cell_type": "code",
   "execution_count": 15,
   "metadata": {},
   "outputs": [
    {
     "data": {
      "text/html": [
       "<div>\n",
       "<style scoped>\n",
       "    .dataframe tbody tr th:only-of-type {\n",
       "        vertical-align: middle;\n",
       "    }\n",
       "\n",
       "    .dataframe tbody tr th {\n",
       "        vertical-align: top;\n",
       "    }\n",
       "\n",
       "    .dataframe thead th {\n",
       "        text-align: right;\n",
       "    }\n",
       "</style>\n",
       "<table border=\"1\" class=\"dataframe\">\n",
       "  <thead>\n",
       "    <tr style=\"text-align: right;\">\n",
       "      <th></th>\n",
       "      <th>id_recepta</th>\n",
       "      <th>ime_recepta</th>\n",
       "      <th>cas_priprave</th>\n",
       "      <th>cas_kuhanja</th>\n",
       "      <th>st_porcij</th>\n",
       "      <th>kalorije</th>\n",
       "      <th>ogljikovi_hidrati</th>\n",
       "      <th>mascobe</th>\n",
       "      <th>beljakovine</th>\n",
       "      <th>k2</th>\n",
       "      <th>skupni_cas</th>\n",
       "      <th>KT1</th>\n",
       "      <th>KT2</th>\n",
       "      <th>KT3</th>\n",
       "      <th>KT</th>\n",
       "    </tr>\n",
       "  </thead>\n",
       "  <tbody>\n",
       "    <tr>\n",
       "      <th>51</th>\n",
       "      <td>87</td>\n",
       "      <td>Watermelon Feta Salad</td>\n",
       "      <td>15</td>\n",
       "      <td>0</td>\n",
       "      <td>12</td>\n",
       "      <td>85.0</td>\n",
       "      <td>9.5</td>\n",
       "      <td>4.0</td>\n",
       "      <td>3.5</td>\n",
       "      <td>1.14</td>\n",
       "      <td>15</td>\n",
       "      <td>5.0</td>\n",
       "      <td>2.0</td>\n",
       "      <td>-3</td>\n",
       "      <td>4.0</td>\n",
       "    </tr>\n",
       "    <tr>\n",
       "      <th>132</th>\n",
       "      <td>204</td>\n",
       "      <td>Skillet Mexican Zucchini</td>\n",
       "      <td>5</td>\n",
       "      <td>10</td>\n",
       "      <td>4</td>\n",
       "      <td>102.0</td>\n",
       "      <td>8.0</td>\n",
       "      <td>6.0</td>\n",
       "      <td>5.0</td>\n",
       "      <td>1.20</td>\n",
       "      <td>15</td>\n",
       "      <td>5.0</td>\n",
       "      <td>3.0</td>\n",
       "      <td>-3</td>\n",
       "      <td>5.0</td>\n",
       "    </tr>\n",
       "    <tr>\n",
       "      <th>100</th>\n",
       "      <td>155</td>\n",
       "      <td>Sauteed Collard Greens with Bacon</td>\n",
       "      <td>5</td>\n",
       "      <td>15</td>\n",
       "      <td>4</td>\n",
       "      <td>73.0</td>\n",
       "      <td>7.0</td>\n",
       "      <td>4.5</td>\n",
       "      <td>3.0</td>\n",
       "      <td>1.50</td>\n",
       "      <td>20</td>\n",
       "      <td>1.0</td>\n",
       "      <td>10.0</td>\n",
       "      <td>-2</td>\n",
       "      <td>9.0</td>\n",
       "    </tr>\n",
       "    <tr>\n",
       "      <th>66</th>\n",
       "      <td>108</td>\n",
       "      <td>Asparagus and Feta Tartlet with Phyllo Crust</td>\n",
       "      <td>15</td>\n",
       "      <td>35</td>\n",
       "      <td>6</td>\n",
       "      <td>91.0</td>\n",
       "      <td>7.5</td>\n",
       "      <td>5.0</td>\n",
       "      <td>4.5</td>\n",
       "      <td>1.11</td>\n",
       "      <td>50</td>\n",
       "      <td>4.0</td>\n",
       "      <td>2.0</td>\n",
       "      <td>4</td>\n",
       "      <td>10.0</td>\n",
       "    </tr>\n",
       "    <tr>\n",
       "      <th>80</th>\n",
       "      <td>124</td>\n",
       "      <td>Skinny Caesar Dressing</td>\n",
       "      <td>5</td>\n",
       "      <td>0</td>\n",
       "      <td>4</td>\n",
       "      <td>91.0</td>\n",
       "      <td>2.5</td>\n",
       "      <td>6.5</td>\n",
       "      <td>6.0</td>\n",
       "      <td>1.08</td>\n",
       "      <td>5</td>\n",
       "      <td>16.0</td>\n",
       "      <td>1.0</td>\n",
       "      <td>-5</td>\n",
       "      <td>12.0</td>\n",
       "    </tr>\n",
       "    <tr>\n",
       "      <th>18</th>\n",
       "      <td>31</td>\n",
       "      <td>Baked Brie Phyllo Cups</td>\n",
       "      <td>8</td>\n",
       "      <td>7</td>\n",
       "      <td>15</td>\n",
       "      <td>60.0</td>\n",
       "      <td>6.5</td>\n",
       "      <td>3.0</td>\n",
       "      <td>2.0</td>\n",
       "      <td>1.50</td>\n",
       "      <td>15</td>\n",
       "      <td>6.0</td>\n",
       "      <td>10.0</td>\n",
       "      <td>-3</td>\n",
       "      <td>13.0</td>\n",
       "    </tr>\n",
       "    <tr>\n",
       "      <th>73</th>\n",
       "      <td>116</td>\n",
       "      <td>Quick Spicy Peanut Palmini Noodle Stir Fry</td>\n",
       "      <td>5</td>\n",
       "      <td>10</td>\n",
       "      <td>1</td>\n",
       "      <td>414.0</td>\n",
       "      <td>26.5</td>\n",
       "      <td>26.5</td>\n",
       "      <td>17.0</td>\n",
       "      <td>1.56</td>\n",
       "      <td>15</td>\n",
       "      <td>7.0</td>\n",
       "      <td>11.0</td>\n",
       "      <td>-3</td>\n",
       "      <td>15.0</td>\n",
       "    </tr>\n",
       "    <tr>\n",
       "      <th>27</th>\n",
       "      <td>46</td>\n",
       "      <td>Pumpkin Overnight Oats in a Jar</td>\n",
       "      <td>10</td>\n",
       "      <td>0</td>\n",
       "      <td>1</td>\n",
       "      <td>269.0</td>\n",
       "      <td>40.5</td>\n",
       "      <td>12.0</td>\n",
       "      <td>10.0</td>\n",
       "      <td>1.20</td>\n",
       "      <td>10</td>\n",
       "      <td>16.0</td>\n",
       "      <td>3.0</td>\n",
       "      <td>-4</td>\n",
       "      <td>15.0</td>\n",
       "    </tr>\n",
       "    <tr>\n",
       "      <th>1</th>\n",
       "      <td>2</td>\n",
       "      <td>Crustless Potato Jalapeño Quiche</td>\n",
       "      <td>10</td>\n",
       "      <td>50</td>\n",
       "      <td>6</td>\n",
       "      <td>207.0</td>\n",
       "      <td>12.0</td>\n",
       "      <td>12.5</td>\n",
       "      <td>11.5</td>\n",
       "      <td>1.09</td>\n",
       "      <td>60</td>\n",
       "      <td>10.0</td>\n",
       "      <td>1.0</td>\n",
       "      <td>6</td>\n",
       "      <td>17.0</td>\n",
       "    </tr>\n",
       "    <tr>\n",
       "      <th>102</th>\n",
       "      <td>158</td>\n",
       "      <td>Roasted Delicata Squash with Burrata, Pomegran...</td>\n",
       "      <td>15</td>\n",
       "      <td>25</td>\n",
       "      <td>6</td>\n",
       "      <td>165.0</td>\n",
       "      <td>14.0</td>\n",
       "      <td>11.0</td>\n",
       "      <td>5.0</td>\n",
       "      <td>2.20</td>\n",
       "      <td>40</td>\n",
       "      <td>2.0</td>\n",
       "      <td>24.0</td>\n",
       "      <td>2</td>\n",
       "      <td>28.0</td>\n",
       "    </tr>\n",
       "  </tbody>\n",
       "</table>\n",
       "</div>"
      ],
      "text/plain": [
       "     id_recepta                                        ime_recepta  \\\n",
       "51           87                              Watermelon Feta Salad   \n",
       "132         204                           Skillet Mexican Zucchini   \n",
       "100         155                  Sauteed Collard Greens with Bacon   \n",
       "66          108       Asparagus and Feta Tartlet with Phyllo Crust   \n",
       "80          124                             Skinny Caesar Dressing   \n",
       "18           31                             Baked Brie Phyllo Cups   \n",
       "73          116         Quick Spicy Peanut Palmini Noodle Stir Fry   \n",
       "27           46                    Pumpkin Overnight Oats in a Jar   \n",
       "1             2                   Crustless Potato Jalapeño Quiche   \n",
       "102         158  Roasted Delicata Squash with Burrata, Pomegran...   \n",
       "\n",
       "     cas_priprave  cas_kuhanja  st_porcij  kalorije  ogljikovi_hidrati  \\\n",
       "51             15            0         12      85.0                9.5   \n",
       "132             5           10          4     102.0                8.0   \n",
       "100             5           15          4      73.0                7.0   \n",
       "66             15           35          6      91.0                7.5   \n",
       "80              5            0          4      91.0                2.5   \n",
       "18              8            7         15      60.0                6.5   \n",
       "73              5           10          1     414.0               26.5   \n",
       "27             10            0          1     269.0               40.5   \n",
       "1              10           50          6     207.0               12.0   \n",
       "102            15           25          6     165.0               14.0   \n",
       "\n",
       "     mascobe  beljakovine    k2  skupni_cas   KT1   KT2  KT3    KT  \n",
       "51       4.0          3.5  1.14          15   5.0   2.0   -3   4.0  \n",
       "132      6.0          5.0  1.20          15   5.0   3.0   -3   5.0  \n",
       "100      4.5          3.0  1.50          20   1.0  10.0   -2   9.0  \n",
       "66       5.0          4.5  1.11          50   4.0   2.0    4  10.0  \n",
       "80       6.5          6.0  1.08           5  16.0   1.0   -5  12.0  \n",
       "18       3.0          2.0  1.50          15   6.0  10.0   -3  13.0  \n",
       "73      26.5         17.0  1.56          15   7.0  11.0   -3  15.0  \n",
       "27      12.0         10.0  1.20          10  16.0   3.0   -4  15.0  \n",
       "1       12.5         11.5  1.09          60  10.0   1.0    6  17.0  \n",
       "102     11.0          5.0  2.20          40   2.0  24.0    2  28.0  "
      ]
     },
     "execution_count": 15,
     "metadata": {},
     "output_type": "execute_result"
    }
   ],
   "source": [
    "recepti_po_k2.sort_values(\n",
    "    \"k2\", ascending=False\n",
    ").sort_values(\n",
    "    \"KT\"\n",
    ").head(\n",
    "    10\n",
    ").drop(\n",
    "    columns = [\"M+B\", \"k1\"]\n",
    ").round(\n",
    "    2\n",
    ")"
   ]
  },
  {
   "cell_type": "markdown",
   "metadata": {},
   "source": [
    "<span style=\"color:yellow\">3. točka</span> \n"
   ]
  },
  {
   "cell_type": "code",
   "execution_count": 16,
   "metadata": {},
   "outputs": [
    {
     "data": {
      "text/plain": [
       "skupni_cas    32.985507\n",
       "KT3            0.586957\n",
       "dtype: float64"
      ]
     },
     "execution_count": 16,
     "metadata": {},
     "output_type": "execute_result"
    }
   ],
   "source": [
    "recepti[[\"skupni_cas\", \"KT3\"]].mean()"
   ]
  },
  {
   "cell_type": "markdown",
   "metadata": {},
   "source": [
    "Naša zbirka receptov ugaja času, ki smo ga pripravljeni vložiti v pripravo obrokov. V povprečju recept od nas zahteva 2-3 minute več kot 30 minut, kar bi bila idealna vrednost."
   ]
  },
  {
   "cell_type": "markdown",
   "metadata": {},
   "source": [
    "<span style=\"color:yellow\">Zaključek:</span> \n",
    "\n",
    "Glede na našo naivno formulo za najbolše recepte so v naši zbirki najboljši trije:"
   ]
  },
  {
   "cell_type": "code",
   "execution_count": 17,
   "metadata": {},
   "outputs": [
    {
     "data": {
      "text/html": [
       "<div>\n",
       "<style scoped>\n",
       "    .dataframe tbody tr th:only-of-type {\n",
       "        vertical-align: middle;\n",
       "    }\n",
       "\n",
       "    .dataframe tbody tr th {\n",
       "        vertical-align: top;\n",
       "    }\n",
       "\n",
       "    .dataframe thead th {\n",
       "        text-align: right;\n",
       "    }\n",
       "</style>\n",
       "<table border=\"1\" class=\"dataframe\">\n",
       "  <thead>\n",
       "    <tr style=\"text-align: right;\">\n",
       "      <th></th>\n",
       "      <th>id_recepta</th>\n",
       "      <th>ime_recepta</th>\n",
       "      <th>cas_priprave</th>\n",
       "      <th>cas_kuhanja</th>\n",
       "      <th>st_porcij</th>\n",
       "      <th>kalorije</th>\n",
       "      <th>ogljikovi_hidrati</th>\n",
       "      <th>mascobe</th>\n",
       "      <th>beljakovine</th>\n",
       "      <th>M+B</th>\n",
       "      <th>k1</th>\n",
       "      <th>k2</th>\n",
       "      <th>skupni_cas</th>\n",
       "      <th>KT1</th>\n",
       "      <th>KT2</th>\n",
       "      <th>KT3</th>\n",
       "      <th>KT</th>\n",
       "    </tr>\n",
       "  </thead>\n",
       "  <tbody>\n",
       "    <tr>\n",
       "      <th>21</th>\n",
       "      <td>37</td>\n",
       "      <td>Huevos Rancheros</td>\n",
       "      <td>5</td>\n",
       "      <td>10</td>\n",
       "      <td>2</td>\n",
       "      <td>414.0</td>\n",
       "      <td>42.0</td>\n",
       "      <td>18.5</td>\n",
       "      <td>22.5</td>\n",
       "      <td>41.0</td>\n",
       "      <td>1.02</td>\n",
       "      <td>0.82</td>\n",
       "      <td>15</td>\n",
       "      <td>0.0</td>\n",
       "      <td>3.0</td>\n",
       "      <td>-3</td>\n",
       "      <td>0.0</td>\n",
       "    </tr>\n",
       "    <tr>\n",
       "      <th>68</th>\n",
       "      <td>110</td>\n",
       "      <td>Protein PB &amp; J Smoothie Bowl</td>\n",
       "      <td>5</td>\n",
       "      <td>0</td>\n",
       "      <td>1</td>\n",
       "      <td>268.0</td>\n",
       "      <td>30.5</td>\n",
       "      <td>11.0</td>\n",
       "      <td>14.5</td>\n",
       "      <td>25.5</td>\n",
       "      <td>1.20</td>\n",
       "      <td>0.76</td>\n",
       "      <td>5</td>\n",
       "      <td>3.0</td>\n",
       "      <td>4.0</td>\n",
       "      <td>-5</td>\n",
       "      <td>2.0</td>\n",
       "    </tr>\n",
       "    <tr>\n",
       "      <th>51</th>\n",
       "      <td>87</td>\n",
       "      <td>Watermelon Feta Salad</td>\n",
       "      <td>15</td>\n",
       "      <td>0</td>\n",
       "      <td>12</td>\n",
       "      <td>85.0</td>\n",
       "      <td>9.5</td>\n",
       "      <td>4.0</td>\n",
       "      <td>3.5</td>\n",
       "      <td>7.5</td>\n",
       "      <td>1.27</td>\n",
       "      <td>1.14</td>\n",
       "      <td>15</td>\n",
       "      <td>5.0</td>\n",
       "      <td>2.0</td>\n",
       "      <td>-3</td>\n",
       "      <td>4.0</td>\n",
       "    </tr>\n",
       "  </tbody>\n",
       "</table>\n",
       "</div>"
      ],
      "text/plain": [
       "    id_recepta                   ime_recepta  cas_priprave  cas_kuhanja  \\\n",
       "21          37              Huevos Rancheros             5           10   \n",
       "68         110  Protein PB & J Smoothie Bowl             5            0   \n",
       "51          87         Watermelon Feta Salad            15            0   \n",
       "\n",
       "    st_porcij  kalorije  ogljikovi_hidrati  mascobe  beljakovine   M+B    k1  \\\n",
       "21          2     414.0               42.0     18.5         22.5  41.0  1.02   \n",
       "68          1     268.0               30.5     11.0         14.5  25.5  1.20   \n",
       "51         12      85.0                9.5      4.0          3.5   7.5  1.27   \n",
       "\n",
       "      k2  skupni_cas  KT1  KT2  KT3   KT  \n",
       "21  0.82          15  0.0  3.0   -3  0.0  \n",
       "68  0.76           5  3.0  4.0   -5  2.0  \n",
       "51  1.14          15  5.0  2.0   -3  4.0  "
      ]
     },
     "execution_count": 17,
     "metadata": {},
     "output_type": "execute_result"
    }
   ],
   "source": [
    "recepti.sort_values(\n",
    "    \"k2\", ascending=False\n",
    ").sort_values(\n",
    "    \"KT\"\n",
    ").head(\n",
    "    3\n",
    ").round(\n",
    "    2\n",
    ")"
   ]
  },
  {
   "cell_type": "markdown",
   "metadata": {},
   "source": [
    "Najslabši trije pa:"
   ]
  },
  {
   "cell_type": "code",
   "execution_count": 18,
   "metadata": {},
   "outputs": [
    {
     "data": {
      "text/html": [
       "<div>\n",
       "<style scoped>\n",
       "    .dataframe tbody tr th:only-of-type {\n",
       "        vertical-align: middle;\n",
       "    }\n",
       "\n",
       "    .dataframe tbody tr th {\n",
       "        vertical-align: top;\n",
       "    }\n",
       "\n",
       "    .dataframe thead th {\n",
       "        text-align: right;\n",
       "    }\n",
       "</style>\n",
       "<table border=\"1\" class=\"dataframe\">\n",
       "  <thead>\n",
       "    <tr style=\"text-align: right;\">\n",
       "      <th></th>\n",
       "      <th>id_recepta</th>\n",
       "      <th>ime_recepta</th>\n",
       "      <th>cas_priprave</th>\n",
       "      <th>cas_kuhanja</th>\n",
       "      <th>st_porcij</th>\n",
       "      <th>kalorije</th>\n",
       "      <th>ogljikovi_hidrati</th>\n",
       "      <th>mascobe</th>\n",
       "      <th>beljakovine</th>\n",
       "      <th>M+B</th>\n",
       "      <th>k1</th>\n",
       "      <th>k2</th>\n",
       "      <th>skupni_cas</th>\n",
       "      <th>KT1</th>\n",
       "      <th>KT2</th>\n",
       "      <th>KT3</th>\n",
       "      <th>KT</th>\n",
       "    </tr>\n",
       "  </thead>\n",
       "  <tbody>\n",
       "    <tr>\n",
       "      <th>2</th>\n",
       "      <td>3</td>\n",
       "      <td>Perfect Baked Potato Recipe</td>\n",
       "      <td>5</td>\n",
       "      <td>55</td>\n",
       "      <td>4</td>\n",
       "      <td>157.0</td>\n",
       "      <td>36.0</td>\n",
       "      <td>0.5</td>\n",
       "      <td>4.0</td>\n",
       "      <td>4.5</td>\n",
       "      <td>8.00</td>\n",
       "      <td>0.12</td>\n",
       "      <td>60</td>\n",
       "      <td>140.0</td>\n",
       "      <td>17.0</td>\n",
       "      <td>6</td>\n",
       "      <td>163.0</td>\n",
       "    </tr>\n",
       "    <tr>\n",
       "      <th>24</th>\n",
       "      <td>41</td>\n",
       "      <td>Apple Cobbler</td>\n",
       "      <td>20</td>\n",
       "      <td>50</td>\n",
       "      <td>8</td>\n",
       "      <td>215.0</td>\n",
       "      <td>44.5</td>\n",
       "      <td>4.0</td>\n",
       "      <td>1.5</td>\n",
       "      <td>5.5</td>\n",
       "      <td>8.09</td>\n",
       "      <td>2.67</td>\n",
       "      <td>70</td>\n",
       "      <td>141.0</td>\n",
       "      <td>33.0</td>\n",
       "      <td>8</td>\n",
       "      <td>182.0</td>\n",
       "    </tr>\n",
       "    <tr>\n",
       "      <th>97</th>\n",
       "      <td>151</td>\n",
       "      <td>Baked Bananas</td>\n",
       "      <td>5</td>\n",
       "      <td>15</td>\n",
       "      <td>1</td>\n",
       "      <td>137.0</td>\n",
       "      <td>35.5</td>\n",
       "      <td>0.5</td>\n",
       "      <td>1.5</td>\n",
       "      <td>2.0</td>\n",
       "      <td>17.75</td>\n",
       "      <td>0.33</td>\n",
       "      <td>20</td>\n",
       "      <td>335.0</td>\n",
       "      <td>13.0</td>\n",
       "      <td>-2</td>\n",
       "      <td>346.0</td>\n",
       "    </tr>\n",
       "  </tbody>\n",
       "</table>\n",
       "</div>"
      ],
      "text/plain": [
       "    id_recepta                  ime_recepta  cas_priprave  cas_kuhanja  \\\n",
       "2            3  Perfect Baked Potato Recipe             5           55   \n",
       "24          41                Apple Cobbler            20           50   \n",
       "97         151                Baked Bananas             5           15   \n",
       "\n",
       "    st_porcij  kalorije  ogljikovi_hidrati  mascobe  beljakovine  M+B     k1  \\\n",
       "2           4     157.0               36.0      0.5          4.0  4.5   8.00   \n",
       "24          8     215.0               44.5      4.0          1.5  5.5   8.09   \n",
       "97          1     137.0               35.5      0.5          1.5  2.0  17.75   \n",
       "\n",
       "      k2  skupni_cas    KT1   KT2  KT3     KT  \n",
       "2   0.12          60  140.0  17.0    6  163.0  \n",
       "24  2.67          70  141.0  33.0    8  182.0  \n",
       "97  0.33          20  335.0  13.0   -2  346.0  "
      ]
     },
     "execution_count": 18,
     "metadata": {},
     "output_type": "execute_result"
    }
   ],
   "source": [
    "recepti.sort_values(\n",
    "    \"k2\", ascending=False\n",
    ").sort_values(\n",
    "    \"KT\"\n",
    ").tail(\n",
    "    3\n",
    ").round(\n",
    "    2\n",
    ")"
   ]
  },
  {
   "cell_type": "markdown",
   "metadata": {},
   "source": [
    "## <span style=\"color:orange\">TEKMOVANJE KATEGORIJ</span>"
   ]
  },
  {
   "cell_type": "code",
   "execution_count": 19,
   "metadata": {},
   "outputs": [],
   "source": [
    "recepti_z_kategorijami = pd.merge(recepti, kategorije)\n",
    "recepti_po_kategorijah = recepti_z_kategorijami.groupby(\"kategorija\")"
   ]
  },
  {
   "cell_type": "markdown",
   "metadata": {},
   "source": [
    "Za začetek si poglejmo, v katere kategorije so recepti razdeljeni in primerjavo nekaterih osnovnih podatkov po kategorijah."
   ]
  },
  {
   "cell_type": "code",
   "execution_count": 20,
   "metadata": {},
   "outputs": [
    {
     "data": {
      "text/plain": [
       "['Appetizer',\n",
       " 'Lunch',\n",
       " 'School Lunch',\n",
       " 'Snack',\n",
       " 'Breakfast',\n",
       " 'Brunch',\n",
       " 'Dinner',\n",
       " 'Side Dish',\n",
       " 'Dessert',\n",
       " 'Salad',\n",
       " 'Meal Prep',\n",
       " 'condiment',\n",
       " 'cookies',\n",
       " 'Soup']"
      ]
     },
     "execution_count": 20,
     "metadata": {},
     "output_type": "execute_result"
    }
   ],
   "source": [
    "seznam_kategorij = recepti_z_kategorijami.kategorija.unique().tolist()\n",
    "seznam_kategorij"
   ]
  },
  {
   "cell_type": "code",
   "execution_count": 21,
   "metadata": {},
   "outputs": [
    {
     "data": {
      "text/plain": [
       "kategorija\n",
       "Soup             1\n",
       "condiment        1\n",
       "cookies          2\n",
       "School Lunch     3\n",
       "Salad            9\n",
       "                ..\n",
       "Brunch          21\n",
       "Side Dish       22\n",
       "Breakfast       24\n",
       "Lunch           56\n",
       "Dinner          75\n",
       "Length: 14, dtype: int64"
      ]
     },
     "execution_count": 21,
     "metadata": {},
     "output_type": "execute_result"
    }
   ],
   "source": [
    "st = recepti_po_kategorijah.size().sort_values()\n",
    "st"
   ]
  },
  {
   "cell_type": "code",
   "execution_count": 22,
   "metadata": {},
   "outputs": [
    {
     "data": {
      "text/plain": [
       "<AxesSubplot:title={'center':'RAZDELITEV KATEGORIJ'}, ylabel='None'>"
      ]
     },
     "execution_count": 22,
     "metadata": {},
     "output_type": "execute_result"
    },
    {
     "data": {
      "image/png": "[encoded data removed]",
      "text/plain": [
       "<Figure size 360x360 with 1 Axes>"
      ]
     },
     "metadata": {},
     "output_type": "display_data"
    }
   ],
   "source": [
    "recepti_po_kategorijah.size().sort_values().plot(\n",
    "    title = \"RAZDELITEV KATEGORIJ\",\n",
    "    kind = \"pie\",\n",
    "    figsize = (5,5),\n",
    "    explode = (0.1,0.1,0.1,0.1,0.1,0.1,0.1,0.1,0.1,0.1,0.1,0.1,0.1,0.1)\n",
    ")"
   ]
  },
  {
   "cell_type": "code",
   "execution_count": 23,
   "metadata": {},
   "outputs": [
    {
     "data": {
      "text/plain": [
       "<AxesSubplot:title={'center':'HRANILNE VREDNOSTI PO KATEGORIJAH'}, xlabel='kategorija'>"
      ]
     },
     "execution_count": 23,
     "metadata": {},
     "output_type": "execute_result"
    },
    {
     "data": {
      "image/png": "[encoded data removed]",
      "text/plain": [
       "<Figure size 432x288 with 1 Axes>"
      ]
     },
     "metadata": {
      "needs_background": "light"
     },
     "output_type": "display_data"
    }
   ],
   "source": [
    "recepti_po_kategorijah.mean()[[\"ogljikovi_hidrati\", \"beljakovine\", \"mascobe\"]].plot.bar(\n",
    "    title = \"HRANILNE VREDNOSTI PO KATEGORIJAH\"\n",
    ")"
   ]
  },
  {
   "cell_type": "code",
   "execution_count": 24,
   "metadata": {},
   "outputs": [
    {
     "data": {
      "text/plain": [
       "<AxesSubplot:title={'center':'ČAS IN KT PO KATEGORIJAH'}, xlabel='kategorija'>"
      ]
     },
     "execution_count": 24,
     "metadata": {},
     "output_type": "execute_result"
    },
    {
     "data": {
      "image/png": "[encoded data removed]",
      "text/plain": [
       "<Figure size 432x288 with 1 Axes>"
      ]
     },
     "metadata": {
      "needs_background": "light"
     },
     "output_type": "display_data"
    }
   ],
   "source": [
    "recepti_po_kategorijah.mean()[[\"skupni_cas\", \"KT\"]].plot.bar(\n",
    "    title = \"ČAS IN KT PO KATEGORIJAH\"\n",
    ")\n"
   ]
  },
  {
   "cell_type": "markdown",
   "metadata": {},
   "source": [
    "Uredimo kategorije po KT. Začnemo z najboljšimi."
   ]
  },
  {
   "cell_type": "code",
   "execution_count": 25,
   "metadata": {},
   "outputs": [
    {
     "data": {
      "text/html": [
       "<div>\n",
       "<style scoped>\n",
       "    .dataframe tbody tr th:only-of-type {\n",
       "        vertical-align: middle;\n",
       "    }\n",
       "\n",
       "    .dataframe tbody tr th {\n",
       "        vertical-align: top;\n",
       "    }\n",
       "\n",
       "    .dataframe thead th {\n",
       "        text-align: right;\n",
       "    }\n",
       "</style>\n",
       "<table border=\"1\" class=\"dataframe\">\n",
       "  <thead>\n",
       "    <tr style=\"text-align: right;\">\n",
       "      <th></th>\n",
       "      <th>cas_priprave</th>\n",
       "      <th>cas_kuhanja</th>\n",
       "      <th>st_porcij</th>\n",
       "      <th>kalorije</th>\n",
       "      <th>ogljikovi_hidrati</th>\n",
       "      <th>mascobe</th>\n",
       "      <th>beljakovine</th>\n",
       "      <th>M+B</th>\n",
       "      <th>k1</th>\n",
       "      <th>k2</th>\n",
       "      <th>skupni_cas</th>\n",
       "      <th>KT1</th>\n",
       "      <th>KT2</th>\n",
       "      <th>KT3</th>\n",
       "      <th>KT</th>\n",
       "    </tr>\n",
       "    <tr>\n",
       "      <th>kategorija</th>\n",
       "      <th></th>\n",
       "      <th></th>\n",
       "      <th></th>\n",
       "      <th></th>\n",
       "      <th></th>\n",
       "      <th></th>\n",
       "      <th></th>\n",
       "      <th></th>\n",
       "      <th></th>\n",
       "      <th></th>\n",
       "      <th></th>\n",
       "      <th></th>\n",
       "      <th></th>\n",
       "      <th></th>\n",
       "      <th></th>\n",
       "    </tr>\n",
       "  </thead>\n",
       "  <tbody>\n",
       "    <tr>\n",
       "      <th>Soup</th>\n",
       "      <td>15.00</td>\n",
       "      <td>30.00</td>\n",
       "      <td>5.00</td>\n",
       "      <td>293.00</td>\n",
       "      <td>34.00</td>\n",
       "      <td>12.50</td>\n",
       "      <td>15.00</td>\n",
       "      <td>27.50</td>\n",
       "      <td>1.24</td>\n",
       "      <td>0.83</td>\n",
       "      <td>45.00</td>\n",
       "      <td>4.00</td>\n",
       "      <td>3.00</td>\n",
       "      <td>3.00</td>\n",
       "      <td>10.00</td>\n",
       "    </tr>\n",
       "    <tr>\n",
       "      <th>School Lunch</th>\n",
       "      <td>18.33</td>\n",
       "      <td>26.67</td>\n",
       "      <td>4.00</td>\n",
       "      <td>282.33</td>\n",
       "      <td>29.67</td>\n",
       "      <td>8.00</td>\n",
       "      <td>22.50</td>\n",
       "      <td>30.50</td>\n",
       "      <td>0.98</td>\n",
       "      <td>0.38</td>\n",
       "      <td>45.00</td>\n",
       "      <td>1.67</td>\n",
       "      <td>11.67</td>\n",
       "      <td>3.00</td>\n",
       "      <td>16.33</td>\n",
       "    </tr>\n",
       "    <tr>\n",
       "      <th>Meal Prep</th>\n",
       "      <td>10.45</td>\n",
       "      <td>21.82</td>\n",
       "      <td>4.45</td>\n",
       "      <td>250.50</td>\n",
       "      <td>20.50</td>\n",
       "      <td>10.09</td>\n",
       "      <td>20.45</td>\n",
       "      <td>30.55</td>\n",
       "      <td>0.91</td>\n",
       "      <td>0.59</td>\n",
       "      <td>32.27</td>\n",
       "      <td>13.18</td>\n",
       "      <td>8.91</td>\n",
       "      <td>0.45</td>\n",
       "      <td>22.55</td>\n",
       "    </tr>\n",
       "    <tr>\n",
       "      <th>Appetizer</th>\n",
       "      <td>14.25</td>\n",
       "      <td>20.44</td>\n",
       "      <td>6.25</td>\n",
       "      <td>187.69</td>\n",
       "      <td>21.46</td>\n",
       "      <td>5.68</td>\n",
       "      <td>12.66</td>\n",
       "      <td>18.34</td>\n",
       "      <td>1.49</td>\n",
       "      <td>0.62</td>\n",
       "      <td>34.69</td>\n",
       "      <td>16.31</td>\n",
       "      <td>10.94</td>\n",
       "      <td>0.94</td>\n",
       "      <td>28.19</td>\n",
       "    </tr>\n",
       "    <tr>\n",
       "      <th>Dinner</th>\n",
       "      <td>11.45</td>\n",
       "      <td>23.71</td>\n",
       "      <td>4.48</td>\n",
       "      <td>296.74</td>\n",
       "      <td>23.91</td>\n",
       "      <td>10.91</td>\n",
       "      <td>25.58</td>\n",
       "      <td>36.49</td>\n",
       "      <td>1.00</td>\n",
       "      <td>0.52</td>\n",
       "      <td>35.16</td>\n",
       "      <td>16.85</td>\n",
       "      <td>10.93</td>\n",
       "      <td>1.01</td>\n",
       "      <td>28.80</td>\n",
       "    </tr>\n",
       "    <tr>\n",
       "      <th>...</th>\n",
       "      <td>...</td>\n",
       "      <td>...</td>\n",
       "      <td>...</td>\n",
       "      <td>...</td>\n",
       "      <td>...</td>\n",
       "      <td>...</td>\n",
       "      <td>...</td>\n",
       "      <td>...</td>\n",
       "      <td>...</td>\n",
       "      <td>...</td>\n",
       "      <td>...</td>\n",
       "      <td>...</td>\n",
       "      <td>...</td>\n",
       "      <td>...</td>\n",
       "      <td>...</td>\n",
       "    </tr>\n",
       "    <tr>\n",
       "      <th>Breakfast</th>\n",
       "      <td>12.08</td>\n",
       "      <td>22.92</td>\n",
       "      <td>6.21</td>\n",
       "      <td>210.54</td>\n",
       "      <td>24.06</td>\n",
       "      <td>8.42</td>\n",
       "      <td>11.22</td>\n",
       "      <td>19.65</td>\n",
       "      <td>2.45</td>\n",
       "      <td>0.89</td>\n",
       "      <td>35.00</td>\n",
       "      <td>36.62</td>\n",
       "      <td>7.29</td>\n",
       "      <td>1.00</td>\n",
       "      <td>44.92</td>\n",
       "    </tr>\n",
       "    <tr>\n",
       "      <th>Side Dish</th>\n",
       "      <td>10.68</td>\n",
       "      <td>26.36</td>\n",
       "      <td>5.55</td>\n",
       "      <td>162.67</td>\n",
       "      <td>23.64</td>\n",
       "      <td>5.94</td>\n",
       "      <td>5.61</td>\n",
       "      <td>11.55</td>\n",
       "      <td>2.38</td>\n",
       "      <td>1.40</td>\n",
       "      <td>37.05</td>\n",
       "      <td>29.45</td>\n",
       "      <td>16.86</td>\n",
       "      <td>1.41</td>\n",
       "      <td>47.73</td>\n",
       "    </tr>\n",
       "    <tr>\n",
       "      <th>Brunch</th>\n",
       "      <td>13.33</td>\n",
       "      <td>24.29</td>\n",
       "      <td>6.57</td>\n",
       "      <td>221.55</td>\n",
       "      <td>24.55</td>\n",
       "      <td>8.79</td>\n",
       "      <td>12.35</td>\n",
       "      <td>21.14</td>\n",
       "      <td>2.57</td>\n",
       "      <td>0.99</td>\n",
       "      <td>37.62</td>\n",
       "      <td>40.19</td>\n",
       "      <td>8.43</td>\n",
       "      <td>1.52</td>\n",
       "      <td>50.14</td>\n",
       "    </tr>\n",
       "    <tr>\n",
       "      <th>Dessert</th>\n",
       "      <td>14.25</td>\n",
       "      <td>21.06</td>\n",
       "      <td>11.19</td>\n",
       "      <td>141.31</td>\n",
       "      <td>23.78</td>\n",
       "      <td>5.20</td>\n",
       "      <td>2.78</td>\n",
       "      <td>7.98</td>\n",
       "      <td>4.20</td>\n",
       "      <td>1.92</td>\n",
       "      <td>35.31</td>\n",
       "      <td>63.69</td>\n",
       "      <td>21.38</td>\n",
       "      <td>1.06</td>\n",
       "      <td>86.12</td>\n",
       "    </tr>\n",
       "    <tr>\n",
       "      <th>condiment</th>\n",
       "      <td>5.00</td>\n",
       "      <td>0.00</td>\n",
       "      <td>4.00</td>\n",
       "      <td>36.50</td>\n",
       "      <td>8.00</td>\n",
       "      <td>0.50</td>\n",
       "      <td>1.00</td>\n",
       "      <td>1.50</td>\n",
       "      <td>5.33</td>\n",
       "      <td>0.50</td>\n",
       "      <td>5.00</td>\n",
       "      <td>86.00</td>\n",
       "      <td>10.00</td>\n",
       "      <td>-5.00</td>\n",
       "      <td>91.00</td>\n",
       "    </tr>\n",
       "  </tbody>\n",
       "</table>\n",
       "<p>14 rows × 15 columns</p>\n",
       "</div>"
      ],
      "text/plain": [
       "              cas_priprave  cas_kuhanja  st_porcij  kalorije  \\\n",
       "kategorija                                                     \n",
       "Soup                 15.00        30.00       5.00    293.00   \n",
       "School Lunch         18.33        26.67       4.00    282.33   \n",
       "Meal Prep            10.45        21.82       4.45    250.50   \n",
       "Appetizer            14.25        20.44       6.25    187.69   \n",
       "Dinner               11.45        23.71       4.48    296.74   \n",
       "...                    ...          ...        ...       ...   \n",
       "Breakfast            12.08        22.92       6.21    210.54   \n",
       "Side Dish            10.68        26.36       5.55    162.67   \n",
       "Brunch               13.33        24.29       6.57    221.55   \n",
       "Dessert              14.25        21.06      11.19    141.31   \n",
       "condiment             5.00         0.00       4.00     36.50   \n",
       "\n",
       "              ogljikovi_hidrati  mascobe  beljakovine    M+B    k1    k2  \\\n",
       "kategorija                                                                 \n",
       "Soup                      34.00    12.50        15.00  27.50  1.24  0.83   \n",
       "School Lunch              29.67     8.00        22.50  30.50  0.98  0.38   \n",
       "Meal Prep                 20.50    10.09        20.45  30.55  0.91  0.59   \n",
       "Appetizer                 21.46     5.68        12.66  18.34  1.49  0.62   \n",
       "Dinner                    23.91    10.91        25.58  36.49  1.00  0.52   \n",
       "...                         ...      ...          ...    ...   ...   ...   \n",
       "Breakfast                 24.06     8.42        11.22  19.65  2.45  0.89   \n",
       "Side Dish                 23.64     5.94         5.61  11.55  2.38  1.40   \n",
       "Brunch                    24.55     8.79        12.35  21.14  2.57  0.99   \n",
       "Dessert                   23.78     5.20         2.78   7.98  4.20  1.92   \n",
       "condiment                  8.00     0.50         1.00   1.50  5.33  0.50   \n",
       "\n",
       "              skupni_cas    KT1    KT2   KT3     KT  \n",
       "kategorija                                           \n",
       "Soup               45.00   4.00   3.00  3.00  10.00  \n",
       "School Lunch       45.00   1.67  11.67  3.00  16.33  \n",
       "Meal Prep          32.27  13.18   8.91  0.45  22.55  \n",
       "Appetizer          34.69  16.31  10.94  0.94  28.19  \n",
       "Dinner             35.16  16.85  10.93  1.01  28.80  \n",
       "...                  ...    ...    ...   ...    ...  \n",
       "Breakfast          35.00  36.62   7.29  1.00  44.92  \n",
       "Side Dish          37.05  29.45  16.86  1.41  47.73  \n",
       "Brunch             37.62  40.19   8.43  1.52  50.14  \n",
       "Dessert            35.31  63.69  21.38  1.06  86.12  \n",
       "condiment           5.00  86.00  10.00 -5.00  91.00  \n",
       "\n",
       "[14 rows x 15 columns]"
      ]
     },
     "execution_count": 25,
     "metadata": {},
     "output_type": "execute_result"
    }
   ],
   "source": [
    "k = recepti_po_kategorijah.mean().drop(columns=[\"id_recepta\"]).round(2).sort_values(\"KT\")\n",
    "k"
   ]
  },
  {
   "cell_type": "markdown",
   "metadata": {},
   "source": [
    "Najboljše tri kategorije po našem kriteriju so:"
   ]
  },
  {
   "cell_type": "code",
   "execution_count": 26,
   "metadata": {},
   "outputs": [
    {
     "data": {
      "text/html": [
       "<div>\n",
       "<style scoped>\n",
       "    .dataframe tbody tr th:only-of-type {\n",
       "        vertical-align: middle;\n",
       "    }\n",
       "\n",
       "    .dataframe tbody tr th {\n",
       "        vertical-align: top;\n",
       "    }\n",
       "\n",
       "    .dataframe thead th {\n",
       "        text-align: right;\n",
       "    }\n",
       "</style>\n",
       "<table border=\"1\" class=\"dataframe\">\n",
       "  <thead>\n",
       "    <tr style=\"text-align: right;\">\n",
       "      <th></th>\n",
       "      <th>cas_priprave</th>\n",
       "      <th>cas_kuhanja</th>\n",
       "      <th>st_porcij</th>\n",
       "      <th>kalorije</th>\n",
       "      <th>ogljikovi_hidrati</th>\n",
       "      <th>mascobe</th>\n",
       "      <th>beljakovine</th>\n",
       "      <th>M+B</th>\n",
       "      <th>k1</th>\n",
       "      <th>k2</th>\n",
       "      <th>skupni_cas</th>\n",
       "      <th>KT1</th>\n",
       "      <th>KT2</th>\n",
       "      <th>KT3</th>\n",
       "      <th>KT</th>\n",
       "    </tr>\n",
       "    <tr>\n",
       "      <th>kategorija</th>\n",
       "      <th></th>\n",
       "      <th></th>\n",
       "      <th></th>\n",
       "      <th></th>\n",
       "      <th></th>\n",
       "      <th></th>\n",
       "      <th></th>\n",
       "      <th></th>\n",
       "      <th></th>\n",
       "      <th></th>\n",
       "      <th></th>\n",
       "      <th></th>\n",
       "      <th></th>\n",
       "      <th></th>\n",
       "      <th></th>\n",
       "    </tr>\n",
       "  </thead>\n",
       "  <tbody>\n",
       "    <tr>\n",
       "      <th>Soup</th>\n",
       "      <td>15.00</td>\n",
       "      <td>30.00</td>\n",
       "      <td>5.00</td>\n",
       "      <td>293.00</td>\n",
       "      <td>34.00</td>\n",
       "      <td>12.50</td>\n",
       "      <td>15.00</td>\n",
       "      <td>27.50</td>\n",
       "      <td>1.24</td>\n",
       "      <td>0.83</td>\n",
       "      <td>45.00</td>\n",
       "      <td>4.00</td>\n",
       "      <td>3.00</td>\n",
       "      <td>3.00</td>\n",
       "      <td>10.00</td>\n",
       "    </tr>\n",
       "    <tr>\n",
       "      <th>School Lunch</th>\n",
       "      <td>18.33</td>\n",
       "      <td>26.67</td>\n",
       "      <td>4.00</td>\n",
       "      <td>282.33</td>\n",
       "      <td>29.67</td>\n",
       "      <td>8.00</td>\n",
       "      <td>22.50</td>\n",
       "      <td>30.50</td>\n",
       "      <td>0.98</td>\n",
       "      <td>0.38</td>\n",
       "      <td>45.00</td>\n",
       "      <td>1.67</td>\n",
       "      <td>11.67</td>\n",
       "      <td>3.00</td>\n",
       "      <td>16.33</td>\n",
       "    </tr>\n",
       "    <tr>\n",
       "      <th>Meal Prep</th>\n",
       "      <td>10.45</td>\n",
       "      <td>21.82</td>\n",
       "      <td>4.45</td>\n",
       "      <td>250.50</td>\n",
       "      <td>20.50</td>\n",
       "      <td>10.09</td>\n",
       "      <td>20.45</td>\n",
       "      <td>30.55</td>\n",
       "      <td>0.91</td>\n",
       "      <td>0.59</td>\n",
       "      <td>32.27</td>\n",
       "      <td>13.18</td>\n",
       "      <td>8.91</td>\n",
       "      <td>0.45</td>\n",
       "      <td>22.55</td>\n",
       "    </tr>\n",
       "  </tbody>\n",
       "</table>\n",
       "</div>"
      ],
      "text/plain": [
       "              cas_priprave  cas_kuhanja  st_porcij  kalorije  \\\n",
       "kategorija                                                     \n",
       "Soup                 15.00        30.00       5.00    293.00   \n",
       "School Lunch         18.33        26.67       4.00    282.33   \n",
       "Meal Prep            10.45        21.82       4.45    250.50   \n",
       "\n",
       "              ogljikovi_hidrati  mascobe  beljakovine    M+B    k1    k2  \\\n",
       "kategorija                                                                 \n",
       "Soup                      34.00    12.50        15.00  27.50  1.24  0.83   \n",
       "School Lunch              29.67     8.00        22.50  30.50  0.98  0.38   \n",
       "Meal Prep                 20.50    10.09        20.45  30.55  0.91  0.59   \n",
       "\n",
       "              skupni_cas    KT1    KT2   KT3     KT  \n",
       "kategorija                                           \n",
       "Soup               45.00   4.00   3.00  3.00  10.00  \n",
       "School Lunch       45.00   1.67  11.67  3.00  16.33  \n",
       "Meal Prep          32.27  13.18   8.91  0.45  22.55  "
      ]
     },
     "execution_count": 26,
     "metadata": {},
     "output_type": "execute_result"
    }
   ],
   "source": [
    "k.head(3)"
   ]
  },
  {
   "cell_type": "markdown",
   "metadata": {},
   "source": [
    "Najslabše pa:"
   ]
  },
  {
   "cell_type": "code",
   "execution_count": 27,
   "metadata": {},
   "outputs": [
    {
     "data": {
      "text/html": [
       "<div>\n",
       "<style scoped>\n",
       "    .dataframe tbody tr th:only-of-type {\n",
       "        vertical-align: middle;\n",
       "    }\n",
       "\n",
       "    .dataframe tbody tr th {\n",
       "        vertical-align: top;\n",
       "    }\n",
       "\n",
       "    .dataframe thead th {\n",
       "        text-align: right;\n",
       "    }\n",
       "</style>\n",
       "<table border=\"1\" class=\"dataframe\">\n",
       "  <thead>\n",
       "    <tr style=\"text-align: right;\">\n",
       "      <th></th>\n",
       "      <th>cas_priprave</th>\n",
       "      <th>cas_kuhanja</th>\n",
       "      <th>st_porcij</th>\n",
       "      <th>kalorije</th>\n",
       "      <th>ogljikovi_hidrati</th>\n",
       "      <th>mascobe</th>\n",
       "      <th>beljakovine</th>\n",
       "      <th>M+B</th>\n",
       "      <th>k1</th>\n",
       "      <th>k2</th>\n",
       "      <th>skupni_cas</th>\n",
       "      <th>KT1</th>\n",
       "      <th>KT2</th>\n",
       "      <th>KT3</th>\n",
       "      <th>KT</th>\n",
       "    </tr>\n",
       "    <tr>\n",
       "      <th>kategorija</th>\n",
       "      <th></th>\n",
       "      <th></th>\n",
       "      <th></th>\n",
       "      <th></th>\n",
       "      <th></th>\n",
       "      <th></th>\n",
       "      <th></th>\n",
       "      <th></th>\n",
       "      <th></th>\n",
       "      <th></th>\n",
       "      <th></th>\n",
       "      <th></th>\n",
       "      <th></th>\n",
       "      <th></th>\n",
       "      <th></th>\n",
       "    </tr>\n",
       "  </thead>\n",
       "  <tbody>\n",
       "    <tr>\n",
       "      <th>Brunch</th>\n",
       "      <td>13.33</td>\n",
       "      <td>24.29</td>\n",
       "      <td>6.57</td>\n",
       "      <td>221.55</td>\n",
       "      <td>24.55</td>\n",
       "      <td>8.79</td>\n",
       "      <td>12.35</td>\n",
       "      <td>21.14</td>\n",
       "      <td>2.57</td>\n",
       "      <td>0.99</td>\n",
       "      <td>37.62</td>\n",
       "      <td>40.19</td>\n",
       "      <td>8.43</td>\n",
       "      <td>1.52</td>\n",
       "      <td>50.14</td>\n",
       "    </tr>\n",
       "    <tr>\n",
       "      <th>Dessert</th>\n",
       "      <td>14.25</td>\n",
       "      <td>21.06</td>\n",
       "      <td>11.19</td>\n",
       "      <td>141.31</td>\n",
       "      <td>23.78</td>\n",
       "      <td>5.20</td>\n",
       "      <td>2.78</td>\n",
       "      <td>7.98</td>\n",
       "      <td>4.20</td>\n",
       "      <td>1.92</td>\n",
       "      <td>35.31</td>\n",
       "      <td>63.69</td>\n",
       "      <td>21.38</td>\n",
       "      <td>1.06</td>\n",
       "      <td>86.12</td>\n",
       "    </tr>\n",
       "    <tr>\n",
       "      <th>condiment</th>\n",
       "      <td>5.00</td>\n",
       "      <td>0.00</td>\n",
       "      <td>4.00</td>\n",
       "      <td>36.50</td>\n",
       "      <td>8.00</td>\n",
       "      <td>0.50</td>\n",
       "      <td>1.00</td>\n",
       "      <td>1.50</td>\n",
       "      <td>5.33</td>\n",
       "      <td>0.50</td>\n",
       "      <td>5.00</td>\n",
       "      <td>86.00</td>\n",
       "      <td>10.00</td>\n",
       "      <td>-5.00</td>\n",
       "      <td>91.00</td>\n",
       "    </tr>\n",
       "  </tbody>\n",
       "</table>\n",
       "</div>"
      ],
      "text/plain": [
       "            cas_priprave  cas_kuhanja  st_porcij  kalorije  ogljikovi_hidrati  \\\n",
       "kategorija                                                                      \n",
       "Brunch             13.33        24.29       6.57    221.55              24.55   \n",
       "Dessert            14.25        21.06      11.19    141.31              23.78   \n",
       "condiment           5.00         0.00       4.00     36.50               8.00   \n",
       "\n",
       "            mascobe  beljakovine    M+B    k1    k2  skupni_cas    KT1    KT2  \\\n",
       "kategorija                                                                      \n",
       "Brunch         8.79        12.35  21.14  2.57  0.99       37.62  40.19   8.43   \n",
       "Dessert        5.20         2.78   7.98  4.20  1.92       35.31  63.69  21.38   \n",
       "condiment      0.50         1.00   1.50  5.33  0.50        5.00  86.00  10.00   \n",
       "\n",
       "             KT3     KT  \n",
       "kategorija               \n",
       "Brunch      1.52  50.14  \n",
       "Dessert     1.06  86.12  \n",
       "condiment  -5.00  91.00  "
      ]
     },
     "execution_count": 27,
     "metadata": {},
     "output_type": "execute_result"
    }
   ],
   "source": [
    "k.tail(3)"
   ]
  },
  {
   "cell_type": "markdown",
   "metadata": {},
   "source": [
    "Ker kategorij ni veliko (le 14), si oglejmo najboljši in najslabši recept za vsako."
   ]
  },
  {
   "cell_type": "code",
   "execution_count": 28,
   "metadata": {},
   "outputs": [],
   "source": [
    "najslabši, najboljši = [], []\n",
    "for kat in seznam_kategorij:\n",
    "    r = recepti_po_kategorijah[[\"kategorija\", \"ime_recepta\", \"KT\"]].get_group(kat)\n",
    "    najslabši.append(r.nlargest(1, \"KT\"))\n",
    "    najboljši.append(r.nsmallest(1, \"KT\"))\n"
   ]
  },
  {
   "cell_type": "code",
   "execution_count": 29,
   "metadata": {},
   "outputs": [
    {
     "data": {
      "text/plain": [
       "[    kategorija                                   ime_recepta    KT\n",
       " 121  Appetizer  Asparagus and Feta Tartlet with Phyllo Crust  10.0,\n",
       "     kategorija                                        ime_recepta   KT\n",
       " 253      Lunch  Portobello Mushroom Burger with Mozzarella, Ro...  8.0,\n",
       "      kategorija            ime_recepta    KT\n",
       " 2  School Lunch  Pepperoni Pizza Bites  13.0,\n",
       "   kategorija            ime_recepta    KT\n",
       " 3      Snack  Pepperoni Pizza Bites  13.0,\n",
       "    kategorija       ime_recepta   KT\n",
       " 39  Breakfast  Huevos Rancheros  0.0,\n",
       "    kategorija       ime_recepta   KT\n",
       " 40     Brunch  Huevos Rancheros  0.0,\n",
       "    kategorija       ime_recepta   KT\n",
       " 41     Dinner  Huevos Rancheros  0.0,\n",
       "     kategorija               ime_recepta   KT\n",
       " 257  Side Dish  Skillet Mexican Zucchini  5.0,\n",
       "     kategorija                 ime_recepta    KT\n",
       " 258    Dessert  Raspberry Yogurt Popsicles  21.0,\n",
       "    kategorija            ime_recepta   KT\n",
       " 89      Salad  Watermelon Feta Salad  4.0,\n",
       "     kategorija                   ime_recepta   KT\n",
       " 126  Meal Prep  Protein PB & J Smoothie Bowl  2.0,\n",
       "     kategorija          ime_recepta    KT\n",
       " 100  condiment  Pico de Gallo Salsa  91.0,\n",
       "     kategorija    ime_recepta    KT\n",
       " 148    cookies  “Fried\" Oreos  29.0,\n",
       "     kategorija           ime_recepta    KT\n",
       " 242       Soup  Detox Vegetable Soup  10.0]"
      ]
     },
     "execution_count": 29,
     "metadata": {},
     "output_type": "execute_result"
    }
   ],
   "source": [
    "najboljši"
   ]
  },
  {
   "cell_type": "code",
   "execution_count": 30,
   "metadata": {},
   "outputs": [
    {
     "data": {
      "text/plain": [
       "[   kategorija          ime_recepta    KT\n",
       " 99  Appetizer  Pico de Gallo Salsa  91.0,\n",
       "   kategorija                  ime_recepta     KT\n",
       " 9      Lunch  Perfect Baked Potato Recipe  163.0,\n",
       "        kategorija             ime_recepta    KT\n",
       " 216  School Lunch  Chicken Parmesan Rolls  21.0,\n",
       "     kategorija          ime_recepta    KT\n",
       " 101      Snack  Pico de Gallo Salsa  91.0,\n",
       "     kategorija    ime_recepta     KT\n",
       " 188  Breakfast  Baked Bananas  346.0,\n",
       "     kategorija    ime_recepta     KT\n",
       " 189     Brunch  Baked Bananas  346.0,\n",
       "   kategorija                  ime_recepta     KT\n",
       " 8     Dinner  Perfect Baked Potato Recipe  163.0,\n",
       "    kategorija                  ime_recepta     KT\n",
       " 10  Side Dish  Perfect Baked Potato Recipe  163.0,\n",
       "     kategorija    ime_recepta     KT\n",
       " 190    Dessert  Baked Bananas  346.0,\n",
       "     kategorija                      ime_recepta     KT\n",
       " 120      Salad  Navel Orange Salad with Avocado  110.0,\n",
       "     kategorija                             ime_recepta    KT\n",
       " 204  Meal Prep  Yogurt Sheet Pan Pancakes with Berries  39.0,\n",
       "     kategorija          ime_recepta    KT\n",
       " 100  condiment  Pico de Gallo Salsa  91.0,\n",
       "     kategorija                                        ime_recepta    KT\n",
       " 196    cookies  Fudgy Flourless Crinkle Brownie Cookies with S...  33.0,\n",
       "     kategorija           ime_recepta    KT\n",
       " 242       Soup  Detox Vegetable Soup  10.0]"
      ]
     },
     "execution_count": 30,
     "metadata": {},
     "output_type": "execute_result"
    }
   ],
   "source": [
    "najslabši"
   ]
  },
  {
   "cell_type": "markdown",
   "metadata": {},
   "source": [
    "Za zabavo si posebej poglejmo kategorijo sladic. K tej pridužimo še piškote."
   ]
  },
  {
   "cell_type": "code",
   "execution_count": 31,
   "metadata": {},
   "outputs": [],
   "source": [
    "dessert = recepti_po_kategorijah.get_group(\"Dessert\")\n",
    "cookies = recepti_po_kategorijah.get_group(\"cookies\")\n",
    "sladice = pd.concat([cookies, dessert])"
   ]
  },
  {
   "cell_type": "markdown",
   "metadata": {},
   "source": [
    "Pogejmo si, če je morda kakšna povezava med kalorijami in KT sladic."
   ]
  },
  {
   "cell_type": "code",
   "execution_count": 32,
   "metadata": {},
   "outputs": [
    {
     "data": {
      "text/plain": [
       "<AxesSubplot:title={'center':'VSI RECEPTI'}, xlabel='kalorije', ylabel='KT'>"
      ]
     },
     "execution_count": 32,
     "metadata": {},
     "output_type": "execute_result"
    },
    {
     "data": {
      "image/png": "[encoded data removed]",
      "text/plain": [
       "<Figure size 432x288 with 1 Axes>"
      ]
     },
     "metadata": {
      "needs_background": "light"
     },
     "output_type": "display_data"
    },
    {
     "data": {
      "image/png": "[encoded data removed]",
      "text/plain": [
       "<Figure size 432x288 with 1 Axes>"
      ]
     },
     "metadata": {
      "needs_background": "light"
     },
     "output_type": "display_data"
    }
   ],
   "source": [
    "sladice.plot.scatter(x=\"kalorije\", y=\"KT\", color = \"violet\", title = \"SLADICE\")\n",
    "recepti.plot.scatter(x=\"kalorije\", y=\"KT\", color = \"purple\", title = \"VSI RECEPTI\")"
   ]
  },
  {
   "cell_type": "code",
   "execution_count": 33,
   "metadata": {},
   "outputs": [
    {
     "data": {
      "text/plain": [
       "KT           80.000000\n",
       "kalorije    143.055556\n",
       "dtype: float64"
      ]
     },
     "execution_count": 33,
     "metadata": {},
     "output_type": "execute_result"
    }
   ],
   "source": [
    "sladice[[\"KT\", \"kalorije\"]].mean()"
   ]
  },
  {
   "cell_type": "code",
   "execution_count": 34,
   "metadata": {},
   "outputs": [
    {
     "data": {
      "text/plain": [
       "KT           36.688406\n",
       "kalorije    237.444203\n",
       "dtype: float64"
      ]
     },
     "execution_count": 34,
     "metadata": {},
     "output_type": "execute_result"
    }
   ],
   "source": [
    "recepti[[\"KT\", \"kalorije\"]].mean()"
   ]
  },
  {
   "cell_type": "markdown",
   "metadata": {},
   "source": [
    "Ne preseneča, da imajo sladice v povprečju dvakrat več KT, saj so znane kot najbolj \"nezdrava\" kategorija.\n",
    "Pogosto jih povezujemo z visoko vsebnostjo kalorij. V naši zbirki pa ima povprečno porcija sladice manj kalorij (143) kot povprečna porcija (237).      \n",
    "Iz grafov pa razberemo tudi, da KT niso povezane s kalorično vrednostjo niti pri sladicah niti nasplošno."
   ]
  },
  {
   "cell_type": "markdown",
   "metadata": {},
   "source": [
    "## <span style=\"color:green\">ANALIZA KULINARIK</span>"
   ]
  },
  {
   "cell_type": "markdown",
   "metadata": {},
   "source": [
    "Podobno analizo kot za kategorije naredimo tudi za kulinarike."
   ]
  },
  {
   "cell_type": "code",
   "execution_count": 35,
   "metadata": {},
   "outputs": [],
   "source": [
    "recepti_z_kulinarikami = pd.merge(recepti, kulinarike)\n",
    "recepti_po_kulinarikah = recepti_z_kulinarikami.groupby(\"kulinarika\")\n",
    "seznam_kulinarik = recepti_z_kulinarikami.kulinarika.unique().tolist()"
   ]
  },
  {
   "cell_type": "code",
   "execution_count": 36,
   "metadata": {},
   "outputs": [
    {
     "data": {
      "text/plain": [
       "kulinarika\n",
       "Indian            1\n",
       "Thai              1\n",
       "Spanish           1\n",
       "Japanese          1\n",
       "Vietnamese        1\n",
       "Greek             1\n",
       "portuguese        1\n",
       "Colombian         1\n",
       "Chilean           1\n",
       "Cajun             1\n",
       "French            2\n",
       "Chinese           2\n",
       "Latin             2\n",
       "Tex Mex           2\n",
       "Cuban             3\n",
       "Mediterranean     4\n",
       "Mexican           4\n",
       "Asian             7\n",
       "Italian          21\n",
       "American         88\n",
       "dtype: int64"
      ]
     },
     "execution_count": 36,
     "metadata": {},
     "output_type": "execute_result"
    }
   ],
   "source": [
    "pd.options.display.max_rows = 30\n",
    "recepti_po_kulinarikah.size().sort_values()"
   ]
  },
  {
   "cell_type": "markdown",
   "metadata": {},
   "source": [
    "Ker je velika večina naših receptov amerških in nimamo dobre baze za primerjavo različnih kulinarik, si primerjavo podakov poglejmo le za občutek."
   ]
  },
  {
   "cell_type": "code",
   "execution_count": 37,
   "metadata": {},
   "outputs": [
    {
     "data": {
      "text/plain": [
       "<AxesSubplot:title={'center':'KAZENSKE TOČKE PO KULINARIKAH'}, xlabel='kulinarika'>"
      ]
     },
     "execution_count": 37,
     "metadata": {},
     "output_type": "execute_result"
    },
    {
     "data": {
      "image/png": "[encoded data removed]",
      "text/plain": [
       "<Figure size 432x288 with 1 Axes>"
      ]
     },
     "metadata": {
      "needs_background": "light"
     },
     "output_type": "display_data"
    },
    {
     "data": {
      "image/png": "[encoded data removed]",
      "text/plain": [
       "<Figure size 432x288 with 1 Axes>"
      ]
     },
     "metadata": {
      "needs_background": "light"
     },
     "output_type": "display_data"
    },
    {
     "data": {
      "image/png": "[encoded data removed]",
      "text/plain": [
       "<Figure size 432x288 with 1 Axes>"
      ]
     },
     "metadata": {
      "needs_background": "light"
     },
     "output_type": "display_data"
    },
    {
     "data": {
      "image/png": "[encoded data removed]",
      "text/plain": [
       "<Figure size 432x288 with 1 Axes>"
      ]
     },
     "metadata": {
      "needs_background": "light"
     },
     "output_type": "display_data"
    },
    {
     "data": {
      "image/png": "[encoded data removed]",
      "text/plain": [
       "<Figure size 432x288 with 1 Axes>"
      ]
     },
     "metadata": {
      "needs_background": "light"
     },
     "output_type": "display_data"
    }
   ],
   "source": [
    "recepti_po_kulinarikah.size().sort_values().plot.bar(\n",
    "    title = \"RAZDELITEV KULINARIK\",\n",
    "    color = \"green\"\n",
    ")\n",
    "recepti_po_kulinarikah.mean()[[\"ogljikovi_hidrati\", \"beljakovine\", \"mascobe\"]].plot.bar(\n",
    "    title = \"HRANILNA SESTAVA PO KULINARIKAH\"\n",
    ")\n",
    "recepti_po_kulinarikah.mean()[[\"kalorije\"]].plot.bar(\n",
    "    title = \"KALORIJE PO KULINARIKAH\",\n",
    "    color = \"green\"\n",
    ")\n",
    "recepti_po_kulinarikah.mean()[[\"skupni_cas\"]].plot.bar(\n",
    "    title = \"ČAS PO KULINARIKAH\",\n",
    "    color = \"green\"\n",
    ")\n",
    "recepti_po_kulinarikah.mean()[[\"KT\"]].plot.bar(\n",
    "    title = \"KAZENSKE TOČKE PO KULINARIKAH\",\n",
    "    color = \"green\"\n",
    ")"
   ]
  },
  {
   "cell_type": "code",
   "execution_count": 38,
   "metadata": {},
   "outputs": [
    {
     "data": {
      "text/html": [
       "<div>\n",
       "<style scoped>\n",
       "    .dataframe tbody tr th:only-of-type {\n",
       "        vertical-align: middle;\n",
       "    }\n",
       "\n",
       "    .dataframe tbody tr th {\n",
       "        vertical-align: top;\n",
       "    }\n",
       "\n",
       "    .dataframe thead th {\n",
       "        text-align: right;\n",
       "    }\n",
       "</style>\n",
       "<table border=\"1\" class=\"dataframe\">\n",
       "  <thead>\n",
       "    <tr style=\"text-align: right;\">\n",
       "      <th></th>\n",
       "      <th>cas_priprave</th>\n",
       "      <th>cas_kuhanja</th>\n",
       "      <th>st_porcij</th>\n",
       "      <th>kalorije</th>\n",
       "      <th>ogljikovi_hidrati</th>\n",
       "      <th>mascobe</th>\n",
       "      <th>beljakovine</th>\n",
       "      <th>M+B</th>\n",
       "      <th>k1</th>\n",
       "      <th>k2</th>\n",
       "      <th>skupni_cas</th>\n",
       "      <th>KT1</th>\n",
       "      <th>KT2</th>\n",
       "      <th>KT3</th>\n",
       "      <th>KT</th>\n",
       "    </tr>\n",
       "    <tr>\n",
       "      <th>kulinarika</th>\n",
       "      <th></th>\n",
       "      <th></th>\n",
       "      <th></th>\n",
       "      <th></th>\n",
       "      <th></th>\n",
       "      <th></th>\n",
       "      <th></th>\n",
       "      <th></th>\n",
       "      <th></th>\n",
       "      <th></th>\n",
       "      <th></th>\n",
       "      <th></th>\n",
       "      <th></th>\n",
       "      <th></th>\n",
       "      <th></th>\n",
       "    </tr>\n",
       "  </thead>\n",
       "  <tbody>\n",
       "    <tr>\n",
       "      <th>Greek</th>\n",
       "      <td>10.00</td>\n",
       "      <td>25.00</td>\n",
       "      <td>4.00</td>\n",
       "      <td>198.00</td>\n",
       "      <td>13.50</td>\n",
       "      <td>11.00</td>\n",
       "      <td>15.00</td>\n",
       "      <td>26.00</td>\n",
       "      <td>0.52</td>\n",
       "      <td>0.73</td>\n",
       "      <td>35.00</td>\n",
       "      <td>9.00</td>\n",
       "      <td>5.00</td>\n",
       "      <td>1.00</td>\n",
       "      <td>15.00</td>\n",
       "    </tr>\n",
       "    <tr>\n",
       "      <th>Chinese</th>\n",
       "      <td>15.00</td>\n",
       "      <td>10.00</td>\n",
       "      <td>4.00</td>\n",
       "      <td>314.80</td>\n",
       "      <td>24.20</td>\n",
       "      <td>12.15</td>\n",
       "      <td>26.80</td>\n",
       "      <td>38.95</td>\n",
       "      <td>0.55</td>\n",
       "      <td>0.48</td>\n",
       "      <td>25.00</td>\n",
       "      <td>8.50</td>\n",
       "      <td>10.00</td>\n",
       "      <td>-1.00</td>\n",
       "      <td>17.50</td>\n",
       "    </tr>\n",
       "    <tr>\n",
       "      <th>Asian</th>\n",
       "      <td>12.14</td>\n",
       "      <td>10.71</td>\n",
       "      <td>3.00</td>\n",
       "      <td>349.43</td>\n",
       "      <td>21.64</td>\n",
       "      <td>16.07</td>\n",
       "      <td>29.00</td>\n",
       "      <td>45.07</td>\n",
       "      <td>0.47</td>\n",
       "      <td>0.64</td>\n",
       "      <td>22.86</td>\n",
       "      <td>10.14</td>\n",
       "      <td>9.86</td>\n",
       "      <td>-1.43</td>\n",
       "      <td>18.57</td>\n",
       "    </tr>\n",
       "    <tr>\n",
       "      <th>Japanese</th>\n",
       "      <td>15.00</td>\n",
       "      <td>0.00</td>\n",
       "      <td>4.00</td>\n",
       "      <td>197.60</td>\n",
       "      <td>7.90</td>\n",
       "      <td>10.30</td>\n",
       "      <td>18.60</td>\n",
       "      <td>28.90</td>\n",
       "      <td>0.27</td>\n",
       "      <td>0.55</td>\n",
       "      <td>15.00</td>\n",
       "      <td>14.00</td>\n",
       "      <td>8.00</td>\n",
       "      <td>-3.00</td>\n",
       "      <td>19.00</td>\n",
       "    </tr>\n",
       "    <tr>\n",
       "      <th>Indian</th>\n",
       "      <td>5.00</td>\n",
       "      <td>20.00</td>\n",
       "      <td>4.00</td>\n",
       "      <td>453.00</td>\n",
       "      <td>23.50</td>\n",
       "      <td>20.00</td>\n",
       "      <td>41.00</td>\n",
       "      <td>61.00</td>\n",
       "      <td>0.39</td>\n",
       "      <td>0.49</td>\n",
       "      <td>25.00</td>\n",
       "      <td>12.00</td>\n",
       "      <td>10.00</td>\n",
       "      <td>-1.00</td>\n",
       "      <td>21.00</td>\n",
       "    </tr>\n",
       "    <tr>\n",
       "      <th>Tex Mex</th>\n",
       "      <td>10.00</td>\n",
       "      <td>35.00</td>\n",
       "      <td>6.00</td>\n",
       "      <td>228.50</td>\n",
       "      <td>10.50</td>\n",
       "      <td>11.00</td>\n",
       "      <td>18.50</td>\n",
       "      <td>29.50</td>\n",
       "      <td>0.38</td>\n",
       "      <td>0.73</td>\n",
       "      <td>45.00</td>\n",
       "      <td>12.00</td>\n",
       "      <td>6.50</td>\n",
       "      <td>3.00</td>\n",
       "      <td>21.50</td>\n",
       "    </tr>\n",
       "    <tr>\n",
       "      <th>Thai</th>\n",
       "      <td>20.00</td>\n",
       "      <td>30.00</td>\n",
       "      <td>4.00</td>\n",
       "      <td>487.00</td>\n",
       "      <td>59.50</td>\n",
       "      <td>11.00</td>\n",
       "      <td>35.00</td>\n",
       "      <td>46.00</td>\n",
       "      <td>1.29</td>\n",
       "      <td>0.31</td>\n",
       "      <td>50.00</td>\n",
       "      <td>5.00</td>\n",
       "      <td>13.00</td>\n",
       "      <td>4.00</td>\n",
       "      <td>22.00</td>\n",
       "    </tr>\n",
       "    <tr>\n",
       "      <th>Mediterranean</th>\n",
       "      <td>13.75</td>\n",
       "      <td>13.75</td>\n",
       "      <td>6.00</td>\n",
       "      <td>323.75</td>\n",
       "      <td>21.00</td>\n",
       "      <td>13.38</td>\n",
       "      <td>30.00</td>\n",
       "      <td>43.38</td>\n",
       "      <td>1.06</td>\n",
       "      <td>0.67</td>\n",
       "      <td>27.50</td>\n",
       "      <td>16.25</td>\n",
       "      <td>7.50</td>\n",
       "      <td>-0.50</td>\n",
       "      <td>23.25</td>\n",
       "    </tr>\n",
       "    <tr>\n",
       "      <th>Latin</th>\n",
       "      <td>10.00</td>\n",
       "      <td>17.50</td>\n",
       "      <td>7.00</td>\n",
       "      <td>176.50</td>\n",
       "      <td>12.25</td>\n",
       "      <td>6.10</td>\n",
       "      <td>17.35</td>\n",
       "      <td>23.45</td>\n",
       "      <td>0.79</td>\n",
       "      <td>0.41</td>\n",
       "      <td>27.50</td>\n",
       "      <td>13.50</td>\n",
       "      <td>11.50</td>\n",
       "      <td>-0.50</td>\n",
       "      <td>24.50</td>\n",
       "    </tr>\n",
       "    <tr>\n",
       "      <th>Cajun</th>\n",
       "      <td>10.00</td>\n",
       "      <td>30.00</td>\n",
       "      <td>4.00</td>\n",
       "      <td>374.00</td>\n",
       "      <td>18.00</td>\n",
       "      <td>18.00</td>\n",
       "      <td>38.00</td>\n",
       "      <td>56.00</td>\n",
       "      <td>0.32</td>\n",
       "      <td>0.47</td>\n",
       "      <td>40.00</td>\n",
       "      <td>13.00</td>\n",
       "      <td>10.00</td>\n",
       "      <td>2.00</td>\n",
       "      <td>25.00</td>\n",
       "    </tr>\n",
       "    <tr>\n",
       "      <th>Spanish</th>\n",
       "      <td>5.00</td>\n",
       "      <td>5.00</td>\n",
       "      <td>4.00</td>\n",
       "      <td>154.00</td>\n",
       "      <td>3.00</td>\n",
       "      <td>6.50</td>\n",
       "      <td>20.00</td>\n",
       "      <td>26.50</td>\n",
       "      <td>0.11</td>\n",
       "      <td>0.32</td>\n",
       "      <td>10.00</td>\n",
       "      <td>17.00</td>\n",
       "      <td>13.00</td>\n",
       "      <td>-4.00</td>\n",
       "      <td>26.00</td>\n",
       "    </tr>\n",
       "    <tr>\n",
       "      <th>Italian</th>\n",
       "      <td>10.90</td>\n",
       "      <td>25.48</td>\n",
       "      <td>5.33</td>\n",
       "      <td>276.76</td>\n",
       "      <td>28.36</td>\n",
       "      <td>8.15</td>\n",
       "      <td>20.60</td>\n",
       "      <td>28.75</td>\n",
       "      <td>1.22</td>\n",
       "      <td>0.49</td>\n",
       "      <td>36.38</td>\n",
       "      <td>15.33</td>\n",
       "      <td>10.76</td>\n",
       "      <td>1.24</td>\n",
       "      <td>27.33</td>\n",
       "    </tr>\n",
       "    <tr>\n",
       "      <th>portuguese</th>\n",
       "      <td>5.00</td>\n",
       "      <td>20.00</td>\n",
       "      <td>4.00</td>\n",
       "      <td>447.00</td>\n",
       "      <td>16.50</td>\n",
       "      <td>10.50</td>\n",
       "      <td>59.50</td>\n",
       "      <td>70.00</td>\n",
       "      <td>0.24</td>\n",
       "      <td>0.18</td>\n",
       "      <td>25.00</td>\n",
       "      <td>15.00</td>\n",
       "      <td>16.00</td>\n",
       "      <td>-1.00</td>\n",
       "      <td>30.00</td>\n",
       "    </tr>\n",
       "    <tr>\n",
       "      <th>Colombian</th>\n",
       "      <td>10.00</td>\n",
       "      <td>15.00</td>\n",
       "      <td>6.00</td>\n",
       "      <td>188.00</td>\n",
       "      <td>3.00</td>\n",
       "      <td>7.20</td>\n",
       "      <td>25.20</td>\n",
       "      <td>32.40</td>\n",
       "      <td>0.09</td>\n",
       "      <td>0.29</td>\n",
       "      <td>25.00</td>\n",
       "      <td>18.00</td>\n",
       "      <td>14.00</td>\n",
       "      <td>-1.00</td>\n",
       "      <td>31.00</td>\n",
       "    </tr>\n",
       "    <tr>\n",
       "      <th>Mexican</th>\n",
       "      <td>6.25</td>\n",
       "      <td>16.25</td>\n",
       "      <td>4.50</td>\n",
       "      <td>194.88</td>\n",
       "      <td>15.88</td>\n",
       "      <td>9.12</td>\n",
       "      <td>13.12</td>\n",
       "      <td>22.25</td>\n",
       "      <td>1.81</td>\n",
       "      <td>0.75</td>\n",
       "      <td>22.50</td>\n",
       "      <td>26.75</td>\n",
       "      <td>6.50</td>\n",
       "      <td>-1.50</td>\n",
       "      <td>31.75</td>\n",
       "    </tr>\n",
       "    <tr>\n",
       "      <th>Vietnamese</th>\n",
       "      <td>15.00</td>\n",
       "      <td>45.00</td>\n",
       "      <td>4.00</td>\n",
       "      <td>233.00</td>\n",
       "      <td>19.50</td>\n",
       "      <td>2.50</td>\n",
       "      <td>30.50</td>\n",
       "      <td>33.00</td>\n",
       "      <td>0.59</td>\n",
       "      <td>0.08</td>\n",
       "      <td>60.00</td>\n",
       "      <td>8.00</td>\n",
       "      <td>18.00</td>\n",
       "      <td>6.00</td>\n",
       "      <td>32.00</td>\n",
       "    </tr>\n",
       "    <tr>\n",
       "      <th>Cuban</th>\n",
       "      <td>5.00</td>\n",
       "      <td>25.00</td>\n",
       "      <td>4.33</td>\n",
       "      <td>165.00</td>\n",
       "      <td>18.33</td>\n",
       "      <td>5.50</td>\n",
       "      <td>14.17</td>\n",
       "      <td>19.67</td>\n",
       "      <td>1.75</td>\n",
       "      <td>0.40</td>\n",
       "      <td>30.00</td>\n",
       "      <td>25.67</td>\n",
       "      <td>11.67</td>\n",
       "      <td>0.00</td>\n",
       "      <td>37.33</td>\n",
       "    </tr>\n",
       "    <tr>\n",
       "      <th>American</th>\n",
       "      <td>12.57</td>\n",
       "      <td>21.05</td>\n",
       "      <td>6.20</td>\n",
       "      <td>212.04</td>\n",
       "      <td>22.20</td>\n",
       "      <td>8.04</td>\n",
       "      <td>14.33</td>\n",
       "      <td>22.37</td>\n",
       "      <td>1.85</td>\n",
       "      <td>1.09</td>\n",
       "      <td>33.61</td>\n",
       "      <td>25.91</td>\n",
       "      <td>14.97</td>\n",
       "      <td>0.72</td>\n",
       "      <td>41.59</td>\n",
       "    </tr>\n",
       "    <tr>\n",
       "      <th>Chilean</th>\n",
       "      <td>25.00</td>\n",
       "      <td>50.00</td>\n",
       "      <td>6.00</td>\n",
       "      <td>218.00</td>\n",
       "      <td>29.00</td>\n",
       "      <td>9.50</td>\n",
       "      <td>5.00</td>\n",
       "      <td>14.50</td>\n",
       "      <td>2.00</td>\n",
       "      <td>1.90</td>\n",
       "      <td>75.00</td>\n",
       "      <td>20.00</td>\n",
       "      <td>17.00</td>\n",
       "      <td>9.00</td>\n",
       "      <td>46.00</td>\n",
       "    </tr>\n",
       "    <tr>\n",
       "      <th>French</th>\n",
       "      <td>15.00</td>\n",
       "      <td>50.00</td>\n",
       "      <td>7.00</td>\n",
       "      <td>200.25</td>\n",
       "      <td>19.75</td>\n",
       "      <td>8.15</td>\n",
       "      <td>12.95</td>\n",
       "      <td>21.10</td>\n",
       "      <td>2.55</td>\n",
       "      <td>0.59</td>\n",
       "      <td>65.00</td>\n",
       "      <td>47.00</td>\n",
       "      <td>7.50</td>\n",
       "      <td>7.00</td>\n",
       "      <td>61.50</td>\n",
       "    </tr>\n",
       "  </tbody>\n",
       "</table>\n",
       "</div>"
      ],
      "text/plain": [
       "               cas_priprave  cas_kuhanja  st_porcij  kalorije  \\\n",
       "kulinarika                                                      \n",
       "Greek                 10.00        25.00       4.00    198.00   \n",
       "Chinese               15.00        10.00       4.00    314.80   \n",
       "Asian                 12.14        10.71       3.00    349.43   \n",
       "Japanese              15.00         0.00       4.00    197.60   \n",
       "Indian                 5.00        20.00       4.00    453.00   \n",
       "Tex Mex               10.00        35.00       6.00    228.50   \n",
       "Thai                  20.00        30.00       4.00    487.00   \n",
       "Mediterranean         13.75        13.75       6.00    323.75   \n",
       "Latin                 10.00        17.50       7.00    176.50   \n",
       "Cajun                 10.00        30.00       4.00    374.00   \n",
       "Spanish                5.00         5.00       4.00    154.00   \n",
       "Italian               10.90        25.48       5.33    276.76   \n",
       "portuguese             5.00        20.00       4.00    447.00   \n",
       "Colombian             10.00        15.00       6.00    188.00   \n",
       "Mexican                6.25        16.25       4.50    194.88   \n",
       "Vietnamese            15.00        45.00       4.00    233.00   \n",
       "Cuban                  5.00        25.00       4.33    165.00   \n",
       "American              12.57        21.05       6.20    212.04   \n",
       "Chilean               25.00        50.00       6.00    218.00   \n",
       "French                15.00        50.00       7.00    200.25   \n",
       "\n",
       "               ogljikovi_hidrati  mascobe  beljakovine    M+B    k1    k2  \\\n",
       "kulinarika                                                                  \n",
       "Greek                      13.50    11.00        15.00  26.00  0.52  0.73   \n",
       "Chinese                    24.20    12.15        26.80  38.95  0.55  0.48   \n",
       "Asian                      21.64    16.07        29.00  45.07  0.47  0.64   \n",
       "Japanese                    7.90    10.30        18.60  28.90  0.27  0.55   \n",
       "Indian                     23.50    20.00        41.00  61.00  0.39  0.49   \n",
       "Tex Mex                    10.50    11.00        18.50  29.50  0.38  0.73   \n",
       "Thai                       59.50    11.00        35.00  46.00  1.29  0.31   \n",
       "Mediterranean              21.00    13.38        30.00  43.38  1.06  0.67   \n",
       "Latin                      12.25     6.10        17.35  23.45  0.79  0.41   \n",
       "Cajun                      18.00    18.00        38.00  56.00  0.32  0.47   \n",
       "Spanish                     3.00     6.50        20.00  26.50  0.11  0.32   \n",
       "Italian                    28.36     8.15        20.60  28.75  1.22  0.49   \n",
       "portuguese                 16.50    10.50        59.50  70.00  0.24  0.18   \n",
       "Colombian                   3.00     7.20        25.20  32.40  0.09  0.29   \n",
       "Mexican                    15.88     9.12        13.12  22.25  1.81  0.75   \n",
       "Vietnamese                 19.50     2.50        30.50  33.00  0.59  0.08   \n",
       "Cuban                      18.33     5.50        14.17  19.67  1.75  0.40   \n",
       "American                   22.20     8.04        14.33  22.37  1.85  1.09   \n",
       "Chilean                    29.00     9.50         5.00  14.50  2.00  1.90   \n",
       "French                     19.75     8.15        12.95  21.10  2.55  0.59   \n",
       "\n",
       "               skupni_cas    KT1    KT2   KT3     KT  \n",
       "kulinarika                                            \n",
       "Greek               35.00   9.00   5.00  1.00  15.00  \n",
       "Chinese             25.00   8.50  10.00 -1.00  17.50  \n",
       "Asian               22.86  10.14   9.86 -1.43  18.57  \n",
       "Japanese            15.00  14.00   8.00 -3.00  19.00  \n",
       "Indian              25.00  12.00  10.00 -1.00  21.00  \n",
       "Tex Mex             45.00  12.00   6.50  3.00  21.50  \n",
       "Thai                50.00   5.00  13.00  4.00  22.00  \n",
       "Mediterranean       27.50  16.25   7.50 -0.50  23.25  \n",
       "Latin               27.50  13.50  11.50 -0.50  24.50  \n",
       "Cajun               40.00  13.00  10.00  2.00  25.00  \n",
       "Spanish             10.00  17.00  13.00 -4.00  26.00  \n",
       "Italian             36.38  15.33  10.76  1.24  27.33  \n",
       "portuguese          25.00  15.00  16.00 -1.00  30.00  \n",
       "Colombian           25.00  18.00  14.00 -1.00  31.00  \n",
       "Mexican             22.50  26.75   6.50 -1.50  31.75  \n",
       "Vietnamese          60.00   8.00  18.00  6.00  32.00  \n",
       "Cuban               30.00  25.67  11.67  0.00  37.33  \n",
       "American            33.61  25.91  14.97  0.72  41.59  \n",
       "Chilean             75.00  20.00  17.00  9.00  46.00  \n",
       "French              65.00  47.00   7.50  7.00  61.50  "
      ]
     },
     "execution_count": 38,
     "metadata": {},
     "output_type": "execute_result"
    }
   ],
   "source": [
    "recepti_po_kulinarikah.mean().drop(columns=[\"id_recepta\"]).round(2).sort_values(\"KT\")"
   ]
  },
  {
   "cell_type": "markdown",
   "metadata": {},
   "source": [
    "## <span style=\"color:red\">ANALIZA OZNAK</span>\n"
   ]
  },
  {
   "cell_type": "markdown",
   "metadata": {},
   "source": [
    "Podobno analizo ponovimo še za oznake."
   ]
  },
  {
   "cell_type": "code",
   "execution_count": 39,
   "metadata": {},
   "outputs": [],
   "source": [
    "recepti_z_oznakami = pd.merge(recepti, oznake)\n",
    "recepti_po_oznakah = recepti_z_oznakami.groupby(\"oznaka\")\n",
    "seznam_oznake = recepti_z_oznakami.oznaka.unique().tolist()"
   ]
  },
  {
   "cell_type": "code",
   "execution_count": 40,
   "metadata": {},
   "outputs": [
    {
     "data": {
      "text/plain": [
       "13"
      ]
     },
     "execution_count": 40,
     "metadata": {},
     "output_type": "execute_result"
    }
   ],
   "source": [
    "len(seznam_oznake)"
   ]
  },
  {
   "cell_type": "markdown",
   "metadata": {},
   "source": [
    "V naši zbirki so recepti lahko označeni s 13 različnimi oznakami."
   ]
  },
  {
   "cell_type": "code",
   "execution_count": 41,
   "metadata": {},
   "outputs": [
    {
     "data": {
      "text/plain": [
       "oznaka\n",
       "Pressure Cooker Recipes     1\n",
       "Paleo                       8\n",
       "Freezer Meals               9\n",
       "Air Fryer                  15\n",
       "Meal Prep Recipes          17\n",
       "Whole 30 Recipes           17\n",
       "Keto Recipes               24\n",
       "Low Carb                   34\n",
       "Dairy Free                 52\n",
       "Vegetarian Meals           63\n",
       "Under 30 Minutes           76\n",
       "Kid Friendly               82\n",
       "Gluten Free                93\n",
       "dtype: int64"
      ]
     },
     "execution_count": 41,
     "metadata": {},
     "output_type": "execute_result"
    }
   ],
   "source": [
    "r = recepti_po_oznakah.size().sort_values()\n",
    "r\n"
   ]
  },
  {
   "cell_type": "code",
   "execution_count": 42,
   "metadata": {},
   "outputs": [
    {
     "data": {
      "text/plain": [
       "<AxesSubplot:title={'center':'RAZDELITEV OZNAK'}, ylabel='None'>"
      ]
     },
     "execution_count": 42,
     "metadata": {},
     "output_type": "execute_result"
    },
    {
     "data": {
      "image/png": "[encoded data removed]",
      "text/plain": [
       "<Figure size 432x432 with 1 Axes>"
      ]
     },
     "metadata": {},
     "output_type": "display_data"
    }
   ],
   "source": [
    "r.plot(\n",
    "    kind = 'pie',\n",
    "    title = \"RAZDELITEV OZNAK\", \n",
    "    figsize = (6,6)\n",
    "    )"
   ]
  },
  {
   "cell_type": "markdown",
   "metadata": {},
   "source": [
    "Iz zgornjega diagrama razberemo, da so recepti v naši zbirki precej raznoliki glede na različne diete. Torej bi si raznolik jedilnik ustvarili tudi z določenimi omejitvami (brez glutena, laktoze, vegetetrjanski...)."
   ]
  },
  {
   "cell_type": "markdown",
   "metadata": {},
   "source": [
    "Oglejmo si kako so oznake razporejene po KT (spet od najboljše do najslabše)."
   ]
  },
  {
   "cell_type": "code",
   "execution_count": 43,
   "metadata": {},
   "outputs": [
    {
     "data": {
      "text/html": [
       "<div>\n",
       "<style scoped>\n",
       "    .dataframe tbody tr th:only-of-type {\n",
       "        vertical-align: middle;\n",
       "    }\n",
       "\n",
       "    .dataframe tbody tr th {\n",
       "        vertical-align: top;\n",
       "    }\n",
       "\n",
       "    .dataframe thead th {\n",
       "        text-align: right;\n",
       "    }\n",
       "</style>\n",
       "<table border=\"1\" class=\"dataframe\">\n",
       "  <thead>\n",
       "    <tr style=\"text-align: right;\">\n",
       "      <th></th>\n",
       "      <th>id_recepta</th>\n",
       "      <th>cas_priprave</th>\n",
       "      <th>cas_kuhanja</th>\n",
       "      <th>st_porcij</th>\n",
       "      <th>kalorije</th>\n",
       "      <th>ogljikovi_hidrati</th>\n",
       "      <th>mascobe</th>\n",
       "      <th>beljakovine</th>\n",
       "      <th>M+B</th>\n",
       "      <th>k1</th>\n",
       "      <th>k2</th>\n",
       "      <th>skupni_cas</th>\n",
       "      <th>KT1</th>\n",
       "      <th>KT2</th>\n",
       "      <th>KT3</th>\n",
       "      <th>KT</th>\n",
       "    </tr>\n",
       "    <tr>\n",
       "      <th>oznaka</th>\n",
       "      <th></th>\n",
       "      <th></th>\n",
       "      <th></th>\n",
       "      <th></th>\n",
       "      <th></th>\n",
       "      <th></th>\n",
       "      <th></th>\n",
       "      <th></th>\n",
       "      <th></th>\n",
       "      <th></th>\n",
       "      <th></th>\n",
       "      <th></th>\n",
       "      <th></th>\n",
       "      <th></th>\n",
       "      <th></th>\n",
       "      <th></th>\n",
       "    </tr>\n",
       "  </thead>\n",
       "  <tbody>\n",
       "    <tr>\n",
       "      <th>Pressure Cooker Recipes</th>\n",
       "      <td>141.000000</td>\n",
       "      <td>4.000000</td>\n",
       "      <td>20.000000</td>\n",
       "      <td>4.000000</td>\n",
       "      <td>452.000000</td>\n",
       "      <td>64.000000</td>\n",
       "      <td>12.500000</td>\n",
       "      <td>24.000000</td>\n",
       "      <td>36.500000</td>\n",
       "      <td>1.753425</td>\n",
       "      <td>0.520833</td>\n",
       "      <td>24.000000</td>\n",
       "      <td>15.000000</td>\n",
       "      <td>9.000000</td>\n",
       "      <td>-2.000000</td>\n",
       "      <td>22.000000</td>\n",
       "    </tr>\n",
       "    <tr>\n",
       "      <th>Air Fryer</th>\n",
       "      <td>106.600000</td>\n",
       "      <td>13.000000</td>\n",
       "      <td>21.200000</td>\n",
       "      <td>4.933333</td>\n",
       "      <td>257.300000</td>\n",
       "      <td>19.500000</td>\n",
       "      <td>9.766667</td>\n",
       "      <td>23.100000</td>\n",
       "      <td>32.866667</td>\n",
       "      <td>0.705744</td>\n",
       "      <td>0.518122</td>\n",
       "      <td>34.200000</td>\n",
       "      <td>8.866667</td>\n",
       "      <td>13.200000</td>\n",
       "      <td>0.800000</td>\n",
       "      <td>22.866667</td>\n",
       "    </tr>\n",
       "    <tr>\n",
       "      <th>Meal Prep Recipes</th>\n",
       "      <td>120.529412</td>\n",
       "      <td>10.882353</td>\n",
       "      <td>21.764706</td>\n",
       "      <td>4.470588</td>\n",
       "      <td>223.529412</td>\n",
       "      <td>16.647059</td>\n",
       "      <td>9.241176</td>\n",
       "      <td>19.117647</td>\n",
       "      <td>28.358824</td>\n",
       "      <td>0.849171</td>\n",
       "      <td>0.594491</td>\n",
       "      <td>32.647059</td>\n",
       "      <td>15.705882</td>\n",
       "      <td>8.764706</td>\n",
       "      <td>0.529412</td>\n",
       "      <td>25.000000</td>\n",
       "    </tr>\n",
       "    <tr>\n",
       "      <th>Low Carb</th>\n",
       "      <td>112.676471</td>\n",
       "      <td>10.147059</td>\n",
       "      <td>19.264706</td>\n",
       "      <td>4.441176</td>\n",
       "      <td>209.576471</td>\n",
       "      <td>7.752941</td>\n",
       "      <td>9.576471</td>\n",
       "      <td>22.926471</td>\n",
       "      <td>32.502941</td>\n",
       "      <td>0.353038</td>\n",
       "      <td>0.730578</td>\n",
       "      <td>29.411765</td>\n",
       "      <td>14.617647</td>\n",
       "      <td>13.647059</td>\n",
       "      <td>-0.117647</td>\n",
       "      <td>28.147059</td>\n",
       "    </tr>\n",
       "    <tr>\n",
       "      <th>Keto Recipes</th>\n",
       "      <td>119.625000</td>\n",
       "      <td>10.833333</td>\n",
       "      <td>19.166667</td>\n",
       "      <td>4.333333</td>\n",
       "      <td>195.208333</td>\n",
       "      <td>7.416667</td>\n",
       "      <td>8.908333</td>\n",
       "      <td>21.862500</td>\n",
       "      <td>30.770833</td>\n",
       "      <td>0.394307</td>\n",
       "      <td>0.824410</td>\n",
       "      <td>30.000000</td>\n",
       "      <td>14.666667</td>\n",
       "      <td>15.416667</td>\n",
       "      <td>0.000000</td>\n",
       "      <td>30.083333</td>\n",
       "    </tr>\n",
       "    <tr>\n",
       "      <th>Under 30 Minutes</th>\n",
       "      <td>110.578947</td>\n",
       "      <td>10.000000</td>\n",
       "      <td>13.539474</td>\n",
       "      <td>4.631579</td>\n",
       "      <td>241.330263</td>\n",
       "      <td>19.926316</td>\n",
       "      <td>9.389474</td>\n",
       "      <td>19.760526</td>\n",
       "      <td>29.150000</td>\n",
       "      <td>1.263343</td>\n",
       "      <td>0.865703</td>\n",
       "      <td>23.539474</td>\n",
       "      <td>19.578947</td>\n",
       "      <td>14.723684</td>\n",
       "      <td>-1.302632</td>\n",
       "      <td>33.000000</td>\n",
       "    </tr>\n",
       "    <tr>\n",
       "      <th>Freezer Meals</th>\n",
       "      <td>129.222222</td>\n",
       "      <td>13.888889</td>\n",
       "      <td>30.555556</td>\n",
       "      <td>6.111111</td>\n",
       "      <td>231.388889</td>\n",
       "      <td>25.611111</td>\n",
       "      <td>7.766667</td>\n",
       "      <td>15.833333</td>\n",
       "      <td>23.600000</td>\n",
       "      <td>1.665677</td>\n",
       "      <td>0.755612</td>\n",
       "      <td>44.444444</td>\n",
       "      <td>19.444444</td>\n",
       "      <td>11.555556</td>\n",
       "      <td>2.888889</td>\n",
       "      <td>33.888889</td>\n",
       "    </tr>\n",
       "    <tr>\n",
       "      <th>Gluten Free</th>\n",
       "      <td>105.172043</td>\n",
       "      <td>10.913978</td>\n",
       "      <td>20.107527</td>\n",
       "      <td>4.741935</td>\n",
       "      <td>235.433333</td>\n",
       "      <td>19.176344</td>\n",
       "      <td>9.465591</td>\n",
       "      <td>18.900000</td>\n",
       "      <td>28.365591</td>\n",
       "      <td>1.381061</td>\n",
       "      <td>0.910831</td>\n",
       "      <td>31.021505</td>\n",
       "      <td>22.268817</td>\n",
       "      <td>14.075269</td>\n",
       "      <td>0.204301</td>\n",
       "      <td>36.548387</td>\n",
       "    </tr>\n",
       "    <tr>\n",
       "      <th>Dairy Free</th>\n",
       "      <td>96.942308</td>\n",
       "      <td>10.673077</td>\n",
       "      <td>20.000000</td>\n",
       "      <td>4.307692</td>\n",
       "      <td>252.021154</td>\n",
       "      <td>21.661538</td>\n",
       "      <td>9.348077</td>\n",
       "      <td>20.601923</td>\n",
       "      <td>29.950000</td>\n",
       "      <td>1.569022</td>\n",
       "      <td>0.696217</td>\n",
       "      <td>30.673077</td>\n",
       "      <td>25.365385</td>\n",
       "      <td>13.115385</td>\n",
       "      <td>0.134615</td>\n",
       "      <td>38.615385</td>\n",
       "    </tr>\n",
       "    <tr>\n",
       "      <th>Kid Friendly</th>\n",
       "      <td>109.756098</td>\n",
       "      <td>12.646341</td>\n",
       "      <td>20.548780</td>\n",
       "      <td>6.231707</td>\n",
       "      <td>223.831707</td>\n",
       "      <td>23.897561</td>\n",
       "      <td>7.589024</td>\n",
       "      <td>16.245122</td>\n",
       "      <td>23.834146</td>\n",
       "      <td>1.736006</td>\n",
       "      <td>0.936335</td>\n",
       "      <td>33.195122</td>\n",
       "      <td>23.914634</td>\n",
       "      <td>15.060976</td>\n",
       "      <td>0.621951</td>\n",
       "      <td>39.597561</td>\n",
       "    </tr>\n",
       "    <tr>\n",
       "      <th>Whole 30 Recipes</th>\n",
       "      <td>99.588235</td>\n",
       "      <td>8.235294</td>\n",
       "      <td>18.529412</td>\n",
       "      <td>4.294118</td>\n",
       "      <td>200.147059</td>\n",
       "      <td>11.970588</td>\n",
       "      <td>9.223529</td>\n",
       "      <td>17.952941</td>\n",
       "      <td>27.176471</td>\n",
       "      <td>1.003940</td>\n",
       "      <td>1.321062</td>\n",
       "      <td>26.764706</td>\n",
       "      <td>19.176471</td>\n",
       "      <td>23.588235</td>\n",
       "      <td>-0.647059</td>\n",
       "      <td>42.117647</td>\n",
       "    </tr>\n",
       "    <tr>\n",
       "      <th>Vegetarian Meals</th>\n",
       "      <td>110.095238</td>\n",
       "      <td>11.380952</td>\n",
       "      <td>22.174603</td>\n",
       "      <td>5.587302</td>\n",
       "      <td>201.265079</td>\n",
       "      <td>25.452381</td>\n",
       "      <td>8.038095</td>\n",
       "      <td>8.815873</td>\n",
       "      <td>16.853968</td>\n",
       "      <td>2.395513</td>\n",
       "      <td>1.270049</td>\n",
       "      <td>33.555556</td>\n",
       "      <td>31.984127</td>\n",
       "      <td>14.253968</td>\n",
       "      <td>0.698413</td>\n",
       "      <td>46.936508</td>\n",
       "    </tr>\n",
       "    <tr>\n",
       "      <th>Paleo</th>\n",
       "      <td>95.375000</td>\n",
       "      <td>6.875000</td>\n",
       "      <td>11.250000</td>\n",
       "      <td>3.750000</td>\n",
       "      <td>191.437500</td>\n",
       "      <td>11.000000</td>\n",
       "      <td>8.600000</td>\n",
       "      <td>17.212500</td>\n",
       "      <td>25.812500</td>\n",
       "      <td>3.030617</td>\n",
       "      <td>0.556073</td>\n",
       "      <td>18.125000</td>\n",
       "      <td>64.375000</td>\n",
       "      <td>11.375000</td>\n",
       "      <td>-2.375000</td>\n",
       "      <td>73.375000</td>\n",
       "    </tr>\n",
       "  </tbody>\n",
       "</table>\n",
       "</div>"
      ],
      "text/plain": [
       "                         id_recepta  cas_priprave  cas_kuhanja  st_porcij  \\\n",
       "oznaka                                                                      \n",
       "Pressure Cooker Recipes  141.000000      4.000000    20.000000   4.000000   \n",
       "Air Fryer                106.600000     13.000000    21.200000   4.933333   \n",
       "Meal Prep Recipes        120.529412     10.882353    21.764706   4.470588   \n",
       "Low Carb                 112.676471     10.147059    19.264706   4.441176   \n",
       "Keto Recipes             119.625000     10.833333    19.166667   4.333333   \n",
       "Under 30 Minutes         110.578947     10.000000    13.539474   4.631579   \n",
       "Freezer Meals            129.222222     13.888889    30.555556   6.111111   \n",
       "Gluten Free              105.172043     10.913978    20.107527   4.741935   \n",
       "Dairy Free                96.942308     10.673077    20.000000   4.307692   \n",
       "Kid Friendly             109.756098     12.646341    20.548780   6.231707   \n",
       "Whole 30 Recipes          99.588235      8.235294    18.529412   4.294118   \n",
       "Vegetarian Meals         110.095238     11.380952    22.174603   5.587302   \n",
       "Paleo                     95.375000      6.875000    11.250000   3.750000   \n",
       "\n",
       "                           kalorije  ogljikovi_hidrati    mascobe  \\\n",
       "oznaka                                                              \n",
       "Pressure Cooker Recipes  452.000000          64.000000  12.500000   \n",
       "Air Fryer                257.300000          19.500000   9.766667   \n",
       "Meal Prep Recipes        223.529412          16.647059   9.241176   \n",
       "Low Carb                 209.576471           7.752941   9.576471   \n",
       "Keto Recipes             195.208333           7.416667   8.908333   \n",
       "Under 30 Minutes         241.330263          19.926316   9.389474   \n",
       "Freezer Meals            231.388889          25.611111   7.766667   \n",
       "Gluten Free              235.433333          19.176344   9.465591   \n",
       "Dairy Free               252.021154          21.661538   9.348077   \n",
       "Kid Friendly             223.831707          23.897561   7.589024   \n",
       "Whole 30 Recipes         200.147059          11.970588   9.223529   \n",
       "Vegetarian Meals         201.265079          25.452381   8.038095   \n",
       "Paleo                    191.437500          11.000000   8.600000   \n",
       "\n",
       "                         beljakovine        M+B        k1        k2  \\\n",
       "oznaka                                                                \n",
       "Pressure Cooker Recipes    24.000000  36.500000  1.753425  0.520833   \n",
       "Air Fryer                  23.100000  32.866667  0.705744  0.518122   \n",
       "Meal Prep Recipes          19.117647  28.358824  0.849171  0.594491   \n",
       "Low Carb                   22.926471  32.502941  0.353038  0.730578   \n",
       "Keto Recipes               21.862500  30.770833  0.394307  0.824410   \n",
       "Under 30 Minutes           19.760526  29.150000  1.263343  0.865703   \n",
       "Freezer Meals              15.833333  23.600000  1.665677  0.755612   \n",
       "Gluten Free                18.900000  28.365591  1.381061  0.910831   \n",
       "Dairy Free                 20.601923  29.950000  1.569022  0.696217   \n",
       "Kid Friendly               16.245122  23.834146  1.736006  0.936335   \n",
       "Whole 30 Recipes           17.952941  27.176471  1.003940  1.321062   \n",
       "Vegetarian Meals            8.815873  16.853968  2.395513  1.270049   \n",
       "Paleo                      17.212500  25.812500  3.030617  0.556073   \n",
       "\n",
       "                         skupni_cas        KT1        KT2       KT3         KT  \n",
       "oznaka                                                                          \n",
       "Pressure Cooker Recipes   24.000000  15.000000   9.000000 -2.000000  22.000000  \n",
       "Air Fryer                 34.200000   8.866667  13.200000  0.800000  22.866667  \n",
       "Meal Prep Recipes         32.647059  15.705882   8.764706  0.529412  25.000000  \n",
       "Low Carb                  29.411765  14.617647  13.647059 -0.117647  28.147059  \n",
       "Keto Recipes              30.000000  14.666667  15.416667  0.000000  30.083333  \n",
       "Under 30 Minutes          23.539474  19.578947  14.723684 -1.302632  33.000000  \n",
       "Freezer Meals             44.444444  19.444444  11.555556  2.888889  33.888889  \n",
       "Gluten Free               31.021505  22.268817  14.075269  0.204301  36.548387  \n",
       "Dairy Free                30.673077  25.365385  13.115385  0.134615  38.615385  \n",
       "Kid Friendly              33.195122  23.914634  15.060976  0.621951  39.597561  \n",
       "Whole 30 Recipes          26.764706  19.176471  23.588235 -0.647059  42.117647  \n",
       "Vegetarian Meals          33.555556  31.984127  14.253968  0.698413  46.936508  \n",
       "Paleo                     18.125000  64.375000  11.375000 -2.375000  73.375000  "
      ]
     },
     "execution_count": 43,
     "metadata": {},
     "output_type": "execute_result"
    }
   ],
   "source": [
    "recepti_po_oznakah.mean().sort_values(\"KT\")"
   ]
  },
  {
   "cell_type": "markdown",
   "metadata": {},
   "source": [
    "## <span style=\"color:yellow\">KRATKA POMOČ ZA SESTAVLJANJE JEDILNIKA</span>"
   ]
  },
  {
   "cell_type": "markdown",
   "metadata": {},
   "source": [
    "Da bomo pri sestavljanju jedilnika hitrejši, si lahko pomagamo z naslednjimi grafi. \n",
    "Ti nam pokažejo ali pri dveh pogojih (določena kategorija, kulinarika ali oznaka) obstaja kakšen recept v naši zbirki, ki jima zadostuje.       \n",
    "Pika na grafu pri (x, y) pomeni, da recept, ki izpolnjuje pogoja x in y, obstaja. Če pike ni, takega recepta v naši zbirki ni."
   ]
  },
  {
   "cell_type": "code",
   "execution_count": 49,
   "metadata": {},
   "outputs": [
    {
     "data": {
      "text/plain": [
       "<AxesSubplot:title={'center':'Kulinarike v določeni kategoriji'}, xlabel='kategorija', ylabel='kulinarika'>"
      ]
     },
     "execution_count": 49,
     "metadata": {},
     "output_type": "execute_result"
    },
    {
     "data": {
      "image/png": "[encoded data removed]",
      "text/plain": [
       "<Figure size 1584x504 with 1 Axes>"
      ]
     },
     "metadata": {
      "needs_background": "light"
     },
     "output_type": "display_data"
    }
   ],
   "source": [
    "recepti_ku_ka = pd.merge(recepti_z_kulinarikami, kategorije)\n",
    "recepti_ku_ka.plot.scatter(x= \"kategorija\", y = \"kulinarika\", figsize = (22, 7), color = \"green\", title = \"Kulinarike v določeni kategoriji\")"
   ]
  },
  {
   "cell_type": "code",
   "execution_count": 48,
   "metadata": {},
   "outputs": [
    {
     "data": {
      "text/plain": [
       "<AxesSubplot:title={'center':'Oznake v določeni kategoriji'}, xlabel='kategorija', ylabel='oznaka'>"
      ]
     },
     "execution_count": 48,
     "metadata": {},
     "output_type": "execute_result"
    },
    {
     "data": {
      "image/png": "[encoded data removed]",
      "text/plain": [
       "<Figure size 1584x504 with 1 Axes>"
      ]
     },
     "metadata": {
      "needs_background": "light"
     },
     "output_type": "display_data"
    }
   ],
   "source": [
    "recepti_o_ka = pd.merge(recepti_z_oznakami, kategorije)\n",
    "recepti_o_ka.plot.scatter(x= \"kategorija\", y = \"oznaka\", figsize = (22, 7), color = \"orange\", title = \"Oznake v določeni kategoriji\")"
   ]
  },
  {
   "cell_type": "code",
   "execution_count": 47,
   "metadata": {},
   "outputs": [
    {
     "data": {
      "text/plain": [
       "<AxesSubplot:title={'center':'Oznake v določeni kulinariki'}, xlabel='kulinarika', ylabel='oznaka'>"
      ]
     },
     "execution_count": 47,
     "metadata": {},
     "output_type": "execute_result"
    },
    {
     "data": {
      "image/png": "[encoded data removed]",
      "text/plain": [
       "<Figure size 1584x504 with 1 Axes>"
      ]
     },
     "metadata": {
      "needs_background": "light"
     },
     "output_type": "display_data"
    }
   ],
   "source": [
    "recepti_o_ku = pd.merge(recepti_z_oznakami, kulinarike)\n",
    "recepti_o_ku.plot.scatter(x= \"kulinarika\", y = \"oznaka\", figsize = (22, 7), color = \"red\", title = \"Oznake v določeni kulinariki\")"
   ]
  },
  {
   "cell_type": "markdown",
   "metadata": {},
   "source": [
    "## <span style=\"color:yellow\">ZAKLJUČEK ANALIZE</span>\n"
   ]
  },
  {
   "cell_type": "markdown",
   "metadata": {},
   "source": [
    "Ugotovili smo, da naša zbirka vključuje največ ameriških receptov in bolj malo jedi drugih kulinarik, zato ta zbirka morda ni najbolj primerna za ljubitelje različnih kulinarik. Je pa zato veliko bolj bogata pri oznakah, ki označujejo različne diete, zato si bo vsak lahko najdel kakšen recept, ki mu ustreza. Raznolik jedilnik si lahko ustvarijo tudi tisti z alergijami, intolerancami, časovno stisko ali majhnimi otroki.     \n",
    "Najmanj težav bomo imeli pri sestavljanju glavnih obrokov, kot so večerja, kosilo, zajtrk, saj večina receptov spada v te kategorije. \n",
    "Za več juh, solat in prigrizkov pa bomo morali pobrskati še kje drugje. V uravnotežen jedilnik lahko vključimo tudi sladice, saj po našem kriteriju od povprečja ne odstopajo veliko.         "
   ]
  }
 ],
 "metadata": {
  "interpreter": {
   "hash": "0d3c76d73cd39d084ca550359b889bc0d224008e009622f08f52503a5a85e3cc"
  },
  "kernelspec": {
   "display_name": "Python 3.9.1 64-bit",
   "language": "python",
   "name": "python3"
  },
  "language_info": {
   "codemirror_mode": {
    "name": "ipython",
    "version": 3
   },
   "file_extension": ".py",
   "mimetype": "text/x-python",
   "name": "python",
   "nbconvert_exporter": "python",
   "pygments_lexer": "ipython3",
   "version": "3.9.1"
  },
  "orig_nbformat": 4
 },
 "nbformat": 4,
 "nbformat_minor": 2
}
